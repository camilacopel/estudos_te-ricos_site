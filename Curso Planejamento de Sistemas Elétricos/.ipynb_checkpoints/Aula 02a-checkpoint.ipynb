{
 "cells": [
  {
   "cell_type": "markdown",
   "id": "d5f70e52",
   "metadata": {},
   "source": [
    "# Aula 02 - Planejamento de Sistemas elétricos'"
   ]
  },
  {
   "cell_type": "markdown",
   "id": "af6751fa",
   "metadata": {},
   "source": [
    "##RESUMOS NO CADERNO E OBSIDIAN(Notebook Pessoal)\n",
    "- Aula 00 e 01\n"
   ]
  },
  {
   "cell_type": "code",
   "execution_count": 1,
   "id": "278440eb",
   "metadata": {},
   "outputs": [
    {
     "name": "stdout",
     "output_type": "stream",
     "text": [
      "['UHE MARCATO', 100.0, 20.0, 0.95, 60.0]\n",
      "<class 'list'>\n"
     ]
    }
   ],
   "source": [
    "usina = [ \"UHE MARCATO\", 100., 20., 0.95, 60.]\n",
    "print(usina)\n",
    "print(type(usina))"
   ]
  },
  {
   "cell_type": "code",
   "execution_count": null,
   "id": "15bed59a",
   "metadata": {},
   "outputs": [],
   "source": []
  },
  {
   "cell_type": "code",
   "execution_count": null,
   "id": "ff6b9bc3",
   "metadata": {},
   "outputs": [],
   "source": []
  },
  {
   "cell_type": "code",
   "execution_count": null,
   "id": "70f9a32a",
   "metadata": {},
   "outputs": [],
   "source": []
  },
  {
   "cell_type": "code",
   "execution_count": null,
   "id": "d63c96c8",
   "metadata": {},
   "outputs": [],
   "source": []
  },
  {
   "cell_type": "code",
   "execution_count": null,
   "id": "534fd6da",
   "metadata": {},
   "outputs": [],
   "source": []
  }
 ],
 "metadata": {
  "kernelspec": {
   "display_name": "Python 3 (ipykernel)",
   "language": "python",
   "name": "python3"
  },
  "language_info": {
   "codemirror_mode": {
    "name": "ipython",
    "version": 3
   },
   "file_extension": ".py",
   "mimetype": "text/x-python",
   "name": "python",
   "nbconvert_exporter": "python",
   "pygments_lexer": "ipython3",
   "version": "3.9.12"
  }
 },
 "nbformat": 4,
 "nbformat_minor": 5
}
