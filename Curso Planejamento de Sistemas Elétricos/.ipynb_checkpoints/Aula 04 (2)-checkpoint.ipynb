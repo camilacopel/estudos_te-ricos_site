{
 "cells": [
  {
   "cell_type": "markdown",
   "id": "7d566cbc",
   "metadata": {},
   "source": [
    "# AULA 04 - Programação Dinâmica Determinística PDD\n",
    "técnica de Programação Dinâmica Determinística para a resolução de um problema de despacho hidrotérmico determinístico, caso no qual as afluências às usinas hidrelétricas (UHEs) são consideradas conhecidas em todo o horizonte de planejamento. Nesta aula, as produtibilidades das UHEs são mantidas constantes durante todo o horizonte de planejamento.\n",
    "\n",
    "Drive: https://drive.google.com/open?id=1Yjue_8dyrr1mOQXtSbUQyd4wY8Gvzzf5&authuser=1"
   ]
  },
  {
   "cell_type": "markdown",
   "id": "8ab043dd",
   "metadata": {},
   "source": [
    "#### PROBLEMA DE DESPACHO HIDROTÉRMICO DETERMINÍSTICO - PDHTD\n",
    "- As afluências são conhecidas\n"
   ]
  }
 ],
 "metadata": {
  "kernelspec": {
   "display_name": "Python 3 (ipykernel)",
   "language": "python",
   "name": "python3"
  },
  "language_info": {
   "codemirror_mode": {
    "name": "ipython",
    "version": 3
   },
   "file_extension": ".py",
   "mimetype": "text/x-python",
   "name": "python",
   "nbconvert_exporter": "python",
   "pygments_lexer": "ipython3",
   "version": "3.9.12"
  }
 },
 "nbformat": 4,
 "nbformat_minor": 5
}
