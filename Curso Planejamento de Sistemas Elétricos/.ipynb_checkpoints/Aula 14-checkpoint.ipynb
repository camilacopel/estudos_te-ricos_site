{
 "cells": [
  {
   "cell_type": "markdown",
   "id": "f2f5981b",
   "metadata": {},
   "source": [
    "# AULA 14 - RESERVATÓRIOS EQUIVALENTES DE ENERGIA (REEs)"
   ]
  },
  {
   "cell_type": "markdown",
   "id": "c034ac8b",
   "metadata": {},
   "source": [
    "## INTRODUÇÃO"
   ]
  },
  {
   "cell_type": "markdown",
   "id": "98d2bdf5",
   "metadata": {},
   "source": [
    "## ENERGIA ARMAZENADA"
   ]
  },
  {
   "cell_type": "markdown",
   "id": "e35aa39a",
   "metadata": {},
   "source": [
    "## ENA"
   ]
  },
  {
   "cell_type": "markdown",
   "id": "2635767b",
   "metadata": {},
   "source": [
    "## DESPACHO HIDROTÉRM"
   ]
  },
  {
   "cell_type": "code",
   "execution_count": null,
   "id": "11369f3f",
   "metadata": {},
   "outputs": [],
   "source": []
  }
 ],
 "metadata": {
  "kernelspec": {
   "display_name": "Python 3 (ipykernel)",
   "language": "python",
   "name": "python3"
  },
  "language_info": {
   "codemirror_mode": {
    "name": "ipython",
    "version": 3
   },
   "file_extension": ".py",
   "mimetype": "text/x-python",
   "name": "python",
   "nbconvert_exporter": "python",
   "pygments_lexer": "ipython3",
   "version": "3.9.12"
  }
 },
 "nbformat": 4,
 "nbformat_minor": 5
}
