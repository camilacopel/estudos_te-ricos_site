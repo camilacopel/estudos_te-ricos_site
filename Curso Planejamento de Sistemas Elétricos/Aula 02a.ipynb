{
 "cells": [
  {
   "cell_type": "markdown",
   "id": "d5f70e52",
   "metadata": {},
   "source": [
    "# Aula 02 - Planejamento de Sistemas elétricos'"
   ]
  },
  {
   "cell_type": "markdown",
   "id": "af6751fa",
   "metadata": {},
   "source": [
    "RESUMOS NO CADERNO E OBSIDIAN(Notebook Pessoal)\n",
    "- Aula 00 e 01\n",
    "- Aula 02a: Implementação Python da Técnica de Programação Dinâmica Estocástica (Adaptada)\n"
   ]
  },
  {
   "cell_type": "code",
   "execution_count": 64,
   "id": "278440eb",
   "metadata": {},
   "outputs": [
    {
     "name": "stdout",
     "output_type": "stream",
     "text": [
      "['UHE MARCATO', 100.0, 20.0, 0.95, 60.0]\n",
      "<class 'list'>\n"
     ]
    }
   ],
   "source": [
    "usina = [ \"UHE MARCATO\", 100., 20., 0.95, 60.]\n",
    "print(usina)\n",
    "print(type(usina))"
   ]
  },
  {
   "cell_type": "markdown",
   "id": "5aac04dc",
   "metadata": {},
   "source": [
    "DICIONÁRIO"
   ]
  },
  {
   "cell_type": "code",
   "execution_count": 65,
   "id": "ff6b9bc3",
   "metadata": {},
   "outputs": [
    {
     "name": "stdout",
     "output_type": "stream",
     "text": [
      "60.0\n"
     ]
    }
   ],
   "source": [
    "usina = {\n",
    " \"Nome\": \"UHE MARCATO\",\n",
    " \"Vmax\": 100.,\n",
    " \"Vmin\": 20.,\n",
    " \"Prod\": 0.95,\n",
    " \"Engol\": 60.\n",
    "}\n",
    "print(usina[\"Engol\"])"
   ]
  },
  {
   "cell_type": "markdown",
   "id": "188501fd",
   "metadata": {},
   "source": [
    "LISTA E DICIONÁRIO"
   ]
  },
  {
   "cell_type": "code",
   "execution_count": 66,
   "id": "d63c96c8",
   "metadata": {},
   "outputs": [
    {
     "name": "stdout",
     "output_type": "stream",
     "text": [
      "5\n",
      "{'Nome': 'UHE MARCATO', 'Vmax': 100.0, 'Vmin': 20.0, 'Prod': 0.95, 'Engol': 60.0}\n",
      "{'Nome': 'UHE MARCATO 2', 'Vmax': 300.0, 'Vmin': 50.0, 'Prod': 0.85, 'Engol': 100.0}\n",
      "UHE MARCATO 60.0\n",
      "UHE MARCATO 2 100.0\n"
     ]
    }
   ],
   "source": [
    "lista_uhe = []\n",
    "usina = {\n",
    " \"Nome\": \"UHE MARCATO\",\n",
    " \"Vmax\": 100.,\n",
    " \"Vmin\": 20.,\n",
    " \"Prod\": 0.95,\n",
    " \"Engol\": 60.\n",
    "}\n",
    "#comando append adiciona o dicionário na lista vazia\n",
    "lista_uhe.append(usina)\n",
    "print(len(usina))\n",
    "\n",
    "usina = {\n",
    " \"Nome\": \"UHE MARCATO 2\",\n",
    " \"Vmax\": 300.,\n",
    " \"Vmin\": 50.,\n",
    " \"Prod\": 0.85,\n",
    " \"Engol\": 100.\n",
    "}\n",
    "\n",
    "lista_uhe.append(usina)\n",
    "print(lista_uhe[0])\n",
    "print(lista_uhe[1])\n",
    "\n",
    "#comando for:para percorrer os elementos da lista \n",
    "for usin in lista_uhe:\n",
    "    print(usin[\"Nome\"], usin[\"Engol\"])"
   ]
  },
  {
   "cell_type": "markdown",
   "id": "0162972d",
   "metadata": {},
   "source": [
    "APLICANDO GT E DADOS GERAIS E DICIONÁRIO COM TODOS OS DADOS DO SISTEMAS"
   ]
  },
  {
   "cell_type": "code",
   "execution_count": 67,
   "id": "158f4646",
   "metadata": {},
   "outputs": [
    {
     "name": "stdout",
     "output_type": "stream",
     "text": [
      "[{'Nome': 'GT1', 'Capacidade': 15.0, 'Custo': 10.0}, {'Nome': 'GT2', 'Capacidade': 10.0, 'Custo': 25.0}] [0] ['Nome']\n"
     ]
    }
   ],
   "source": [
    "lista_uhe = []\n",
    "usina = {\n",
    " \"Nome\": \"UHE MARCATO\",\n",
    " \"Vmax\": 100.,\n",
    " \"Vmin\": 20.,\n",
    " \"Prod\": 0.95,\n",
    " \"Engol\": 60.,\n",
    " \"AFL\": [\n",
    "    [ 23, 16],\n",
    "    [ 19, 14],\n",
    "    [ 15, 11]\n",
    " ]\n",
    "     #Cenários = colunas e estágios=linhas\n",
    "}\n",
    "lista_uhe.append(usina)\n",
    "#Lista de UTE - Usinas térmicas\n",
    "lista_ute = []\n",
    "#Primeira Usina Térmica\n",
    "usina = {\n",
    "    \"Nome\": \"GT1\",\n",
    "    \"Capacidade\": 15.,\n",
    "    \"Custo\": 10.\n",
    " }\n",
    "lista_ute.append(usina)\n",
    "#Segunda usina\n",
    "usina = {\n",
    "    \"Nome\": \"GT2\",\n",
    "    \"Capacidade\": 10.,\n",
    "    \"Custo\": 25.\n",
    "}\n",
    "lista_ute.append(usina)\n",
    "\n",
    "#Dados Gerais - variavéis\n",
    "d_gerais = {\n",
    "    \"CDef\": 500.,\n",
    "    \"Carga\": [50.,50.,50.,],#mes1, mês2, mês3, ...\n",
    "    \"N_Disc\":3,\n",
    "    \"N_Est\": 3,\n",
    "    \"N_Scenes\": 2\n",
    "}\n",
    "\n",
    "#Sistema - Dicionário compactando todas as informações\n",
    "sistema = {\n",
    "    \"DGer\": d_gerais,\n",
    "    \"UHE\": lista_uhe,\n",
    "    \"UTE\": lista_ute\n",
    "}\n",
    "print(sistema[\"UTE\"],[0],[\"Nome\"])"
   ]
  },
  {
   "cell_type": "markdown",
   "id": "d444a67e",
   "metadata": {},
   "source": [
    "PROBLEMA DE DESPACHO TÉRMICO DA  AULA 01\n",
    "\n",
    "Tabela com os seguintes dados:\n",
    "\n",
    "   - Discretizações(Armazenamento(hm³))\n",
    "   - Afluência \n",
    "   - Decisões Ótimas(Variavéis):\n",
    "       1. UHEs (Volume final, Volume turbinado e Volume vertido),\n",
    "       2. UTEs (Usar usina térmica 1 ou 2, GT1 e GT2)\n",
    "       3. Def (Défict)\n",
    "   - Custo imediato\n",
    "   - Custo Ótimo\n",
    "   - Custo de Operação"
   ]
  },
  {
   "cell_type": "markdown",
   "id": "195687d5",
   "metadata": {},
   "source": [
    "    FUNÇÃO OBJETIVO\n",
    "    Custo Imediato\n",
    "\n",
    "$Min \\hspace{0.5cm}C_1 \\cdot GT_1 + C_2 \\cdot GT_2 + Cdef \\cdot DEF + 0.01 \\cdot V_v$\n",
    "\n",
    "    BALANÇO HÍDRICO\n",
    "    \n",
    "$V_f= V_i + AFL - V_t - V_v$\n",
    "\n",
    "    ATENDIMENTO À DEMANDA\n",
    " \n",
    "$CARGA = \\rho \\cdot V_t + GT_1 + GT_2 + DEF$\n",
    "\n",
    "    RESTRIÇÕES DE CANALIZAÇÃO\n",
    "    Limites superiores e inferiores das variavéis de decisão\n",
    "\n",
    "$20 \\le V_f \\le 100 $\n",
    "\n",
    "$0 \\le V_t \\le 60 $\n",
    "\n",
    "$0 \\le V_v \\le \\infty $\n",
    "\n",
    "$0 \\le GT_1 \\le 15 $\n",
    "\n",
    "$0 \\le GT_2 \\le 25 $\n",
    "\n",
    "$0 \\le DEF \\le \\infty $"
   ]
  },
  {
   "cell_type": "code",
   "execution_count": 72,
   "id": "0f54d34c",
   "metadata": {},
   "outputs": [
    {
     "name": "stdout",
     "output_type": "stream",
     "text": [
      "2\n",
      "Volume final da Usina\n",
      "None\n",
      "linear function of length 1\n",
      "linear term: linear function of length 1\n",
      "coefficient of variable(2,'Geração na Usina Térmica'):\n",
      "[ 1.00e+01  2.50e+01]\n",
      "coefficient of variable(1,'Déficit de Energia no Sistema'):\n",
      "[ 5.00e+02]\n",
      "coefficient of variable(1,'Volume Vertido da Usina'):\n",
      "[ 1.00e-02]\n",
      "\n",
      "scalar equality\n",
      "constraint function:\n",
      "affine function of length 1\n",
      "constant term:\n",
      "[-1.11e+02]\n",
      "linear term: linear function of length 1\n",
      "coefficient of variable(1,'Volume final da Usina'):\n",
      "[ 1.00e+00]\n",
      "coefficient of variable(1,'Volume Turbinado da Usina'):\n",
      "[ 1.00e+00]\n",
      "coefficient of variable(1,'Volume Vertido da Usina'):\n",
      "[ 1.00e+00]\n",
      "\n"
     ]
    }
   ],
   "source": [
    "import cvxopt\n",
    "from cvxopt.modeling import variable, solvers\n",
    "#Variable - define as variavéis de decisão\n",
    "#Solvers - O problema de otimização\n",
    "\n",
    "Vi = 60\n",
    "AFL = 11\n",
    "Num_UHE = len(sistema[\"UHE\"])\n",
    "Num_UTE = len(sistema[\"UTE\"])\n",
    "print(Num_UTE)\n",
    "\n",
    "#Variavéis de Decisão de volume final\n",
    "#Por isso a necessidade de Num_UTE e Num_UHE\n",
    "vf = variable(Num_UHE, \"Volume final da Usina\")\n",
    "vt = variable(Num_UHE, \"Volume Turbinado da Usina\")\n",
    "vv = variable(Num_UHE, \"Volume Vertido da Usina\")\n",
    "gt = variable(Num_UTE, \"Geração na Usina Térmica\")\n",
    "deficit = variable(1, \"Déficit de Energia no Sistema\")\n",
    "\n",
    "\n",
    "print(vf.name)\n",
    "print(deficit.value)\n",
    "#Após resolver o problema de otimização \"none\"\n",
    "\n",
    "#CONSTRUÇÃO DA FUNÇÃO OBJETIVO\n",
    "#𝑀𝑖𝑛𝐶1⋅𝐺𝑇1+𝐶2⋅𝐺𝑇2+𝐶𝑑𝑒𝑓⋅𝐷𝐸𝐹+0.01⋅𝑉𝑣\n",
    "#𝑀𝑖𝑛𝐶1⋅𝐺𝑇1+𝐶2⋅𝐺𝑇2\n",
    "fob = 0\n",
    "for i,usin in enumerate(sistema[\"UTE\"]):\n",
    "    fob += usin['Custo']*gt[i]\n",
    "\n",
    "#𝐶𝑑𝑒𝑓⋅𝐷𝐸𝐹\n",
    "fob += sistema[\"DGer\"][\"CDef\"]*deficit[0]\n",
    "\n",
    "#0.01⋅𝑉𝑣\n",
    "#E percorrer todas as usinas\n",
    "for i,usin in enumerate(sistema[\"UHE\"]):\n",
    "    fob += 0.01*vv[i]\n",
    "    \n",
    "print(fob)\n",
    "\n",
    "\n",
    "#DEFINIÇÃO DAS RESTRIÇÕES\n",
    "#BALANÇO HÍDRICO\n",
    "#𝑉𝑓=𝑉𝑖+𝐴𝐹𝐿−𝑉𝑡−𝑉𝑣\n",
    "restricoes = []\n",
    "for i, usin in enumerate(sistema[\"UHE\"]):\n",
    "    restricoes.append(vf[i] == Vi + AFL - vt[i] - vv[i] )\n",
    "\n",
    "#ATENDIMENTO À DEMANDA\n",
    "#𝐶𝐴𝑅𝐺𝐴=𝜌⋅𝑉𝑡+𝐺𝑇1+𝐺𝑇2+𝐷𝐸𝐹\n",
    "#𝜌⋅𝑉𝑡\n",
    "AD = 0\n",
    "for i, usin in enumerate(sistema[\"UHE\"]):\n",
    "    AD += usin [\"Prod\"]*vt[i]\n",
    "\n",
    "#𝐺𝑇1+𝐺𝑇2\n",
    "for i, usin in enumerate(sistema[\"UTE\"]):\n",
    "    AD += gt[i]\n",
    "\n",
    "#𝐷𝐸𝐹\n",
    "AD += deficit[0]\n",
    "\n",
    "restricoes.append(AD == sistema[\"DGer\"][\"Carga\"][2]) #2=estágios\n",
    "print(restricoes[0])\n",
    "\n",
    "\n",
    "#RESTRIÇÕES DE CANALIZAÇÃO\n",
    "#Limites superiores e inferiores das variavéis de decisão\n",
    "    #20≤𝑉𝑓≤100\n",
    "    #0≤𝑉𝑡≤60\n",
    "    #0≤𝑉𝑣≤∞\n",
    "    \n",
    "for i, usin in enumerate(sistema[\"UHE\"]):\n",
    "    restricoes.append(vf[i] >= usin[\"Vmin\"])\n",
    "    restricoes.append(vf[i] <= usin[\"Vmax\"])\n",
    "    restricoes.append(vt[i] >= usin[\"Engol\"])\n",
    "    restricoes.append(vt[i] <= usin[\"Engol\"])\n",
    "    restricoes.append(vv[i] >= 0)\n",
    "    \n",
    "    #0≤𝐺𝑇1≤15\n",
    "    #0≤𝐺𝑇2≤25\n",
    "for i, usin in enumerate(sistema[\"UTE\"]):\n",
    "    restricoes.append(gt[i] >= 0)\n",
    "    restricoes.append(gt <= usin[\"Capac\"])\n",
    "    \n",
    "    #0≤𝐷𝐸𝐹≤∞\n",
    "restricoes.append( deficit[0] >= 0)\n",
    "    "
   ]
  },
  {
   "cell_type": "markdown",
   "id": "da145e85",
   "metadata": {},
   "source": [
    "RESOLVENDO PROBLEMAS DE OTIMIZAÇÃO"
   ]
  },
  {
   "cell_type": "code",
   "execution_count": 76,
   "id": "03e8a266",
   "metadata": {},
   "outputs": [
    {
     "ename": "IndexError",
     "evalue": "list index out of range",
     "output_type": "error",
     "traceback": [
      "\u001b[1;31m---------------------------------------------------------------------------\u001b[0m",
      "\u001b[1;31mIndexError\u001b[0m                                Traceback (most recent call last)",
      "Input \u001b[1;32mIn [76]\u001b[0m, in \u001b[0;36m<cell line: 5>\u001b[1;34m()\u001b[0m\n\u001b[0;32m      2\u001b[0m \u001b[38;5;66;03m#inserir a função objetivo e suas retrições\u001b[39;00m\n\u001b[0;32m      3\u001b[0m problema \u001b[38;5;241m=\u001b[39m op(fob, restricoes)\n\u001b[1;32m----> 5\u001b[0m \u001b[43mproblema\u001b[49m\u001b[38;5;241;43m.\u001b[39;49m\u001b[43msolve\u001b[49m\u001b[43m(\u001b[49m\u001b[38;5;124;43m'\u001b[39;49m\u001b[38;5;124;43mdense\u001b[39;49m\u001b[38;5;124;43m'\u001b[39;49m\u001b[43m,\u001b[49m\u001b[38;5;124;43m'\u001b[39;49m\u001b[38;5;124;43mglpk\u001b[39;49m\u001b[38;5;124;43m'\u001b[39;49m\u001b[43m)\u001b[49m\n\u001b[0;32m      6\u001b[0m \u001b[38;5;66;03m#Entender por que deu errado\u001b[39;00m\n\u001b[0;32m      7\u001b[0m \u001b[38;5;66;03m#Usina Hídrica\u001b[39;00m\n\u001b[0;32m      8\u001b[0m \u001b[38;5;28mprint\u001b[39m(\u001b[38;5;124m'\u001b[39m\u001b[38;5;124mCusto Total: \u001b[39m\u001b[38;5;124m'\u001b[39m, fob\u001b[38;5;241m.\u001b[39mvalue())\n",
      "File \u001b[1;32m~\\Anaconda3\\lib\\site-packages\\cvxopt\\modeling.py:2596\u001b[0m, in \u001b[0;36mop.solve\u001b[1;34m(self, format, solver, **kwargs)\u001b[0m\n\u001b[0;32m   2579\u001b[0m \u001b[38;5;28;01mdef\u001b[39;00m \u001b[38;5;21msolve\u001b[39m(\u001b[38;5;28mself\u001b[39m, \u001b[38;5;28mformat\u001b[39m\u001b[38;5;241m=\u001b[39m\u001b[38;5;124m'\u001b[39m\u001b[38;5;124mdense\u001b[39m\u001b[38;5;124m'\u001b[39m, solver \u001b[38;5;241m=\u001b[39m \u001b[38;5;124m'\u001b[39m\u001b[38;5;124mdefault\u001b[39m\u001b[38;5;124m'\u001b[39m, \u001b[38;5;241m*\u001b[39m\u001b[38;5;241m*\u001b[39mkwargs):\n\u001b[0;32m   2581\u001b[0m     \u001b[38;5;124;03m\"\"\"\u001b[39;00m\n\u001b[0;32m   2582\u001b[0m \u001b[38;5;124;03m    Solves LP using dense or sparse solver.\u001b[39;00m\n\u001b[0;32m   2583\u001b[0m \n\u001b[1;32m   (...)\u001b[0m\n\u001b[0;32m   2593\u001b[0m \u001b[38;5;124;03m    variables are set to a proof of dual infeasibility.\u001b[39;00m\n\u001b[0;32m   2594\u001b[0m \u001b[38;5;124;03m    \"\"\"\u001b[39;00m\n\u001b[1;32m-> 2596\u001b[0m     t \u001b[38;5;241m=\u001b[39m \u001b[38;5;28;43mself\u001b[39;49m\u001b[38;5;241;43m.\u001b[39;49m\u001b[43m_inmatrixform\u001b[49m\u001b[43m(\u001b[49m\u001b[38;5;28;43mformat\u001b[39;49m\u001b[43m)\u001b[49m\n\u001b[0;32m   2598\u001b[0m     \u001b[38;5;28;01mif\u001b[39;00m t \u001b[38;5;129;01mis\u001b[39;00m \u001b[38;5;28;01mNone\u001b[39;00m:\n\u001b[0;32m   2599\u001b[0m         lp1 \u001b[38;5;241m=\u001b[39m \u001b[38;5;28mself\u001b[39m\n",
      "File \u001b[1;32m~\\Anaconda3\\lib\\site-packages\\cvxopt\\modeling.py:2575\u001b[0m, in \u001b[0;36mop._inmatrixform\u001b[1;34m(self, format)\u001b[0m\n\u001b[0;32m   2572\u001b[0m         mmap[i] \u001b[38;5;241m=\u001b[39m \u001b[38;5;28msum\u001b[39m(mmap[i])\n\u001b[0;32m   2574\u001b[0m \u001b[38;5;28;01mfor\u001b[39;00m e \u001b[38;5;129;01min\u001b[39;00m  equalities:\n\u001b[1;32m-> 2575\u001b[0m     mmap[e] \u001b[38;5;241m=\u001b[39m \u001b[43mconstraints\u001b[49m\u001b[43m[\u001b[49m\u001b[38;5;241;43m1\u001b[39;49m\u001b[43m]\u001b[49m\u001b[38;5;241m.\u001b[39mmultiplier[eslc[e]]\n\u001b[0;32m   2576\u001b[0m \u001b[38;5;28;01mreturn\u001b[39;00m (op(cost, constraints), vmap, mmap)\n",
      "\u001b[1;31mIndexError\u001b[0m: list index out of range"
     ]
    }
   ],
   "source": [
    "from cvxopt.modeling import op\n",
    "#inserir a função objetivo e suas retrições\n",
    "problema = op(fob, restricoes)\n",
    "\n",
    "problema.solve('dense','glpk')\n",
    "#Entender por que deu errado\n",
    "#Usina Hídrica\n",
    "print('Custo Total: ', fob.value())\n",
    "for i, usin in enumerate(sistema[\"UHE\"]):\n",
    "    print(vf.name,i, \"é\",vf[i].value(),\"hm³\")\n",
    "    print(vt.name,i, \"é\",vt[i].value(),\"hm³\")\n",
    "    print(vv.name,i, \"é\",vv[i].value(),\"hm³\")\n",
    "    \n",
    "#Usina Térmica\n",
    "for i, usin in enumerate(sistema[\"UTE\"]):\n",
    "    print(gt.name,i, \"é\",gt[i].value(),\"MWmed\")\n",
    "\n",
    "#Déficit\n",
    "print(deficit.name, \"é\",deficit[0].value(),\"MWmed\")\n",
    "\n",
    "for i, usin in enumerate(sistema[\"UHE\"]):\n",
    "    print(\"O valor da água na usina,\",i,\"é: \", restricoes[i].multiplier.value)\n",
    "\n",
    "    print(\"O custo marginal de Operação é: \", restricoes[Num_UHE].multiplier.value)"
   ]
  },
  {
   "cell_type": "code",
   "execution_count": null,
   "id": "be7333e7",
   "metadata": {},
   "outputs": [],
   "source": []
  },
  {
   "cell_type": "code",
   "execution_count": null,
   "id": "534fd6da",
   "metadata": {},
   "outputs": [],
   "source": []
  }
 ],
 "metadata": {
  "kernelspec": {
   "display_name": "Python 3 (ipykernel)",
   "language": "python",
   "name": "python3"
  },
  "language_info": {
   "codemirror_mode": {
    "name": "ipython",
    "version": 3
   },
   "file_extension": ".py",
   "mimetype": "text/x-python",
   "name": "python",
   "nbconvert_exporter": "python",
   "pygments_lexer": "ipython3",
   "version": "3.9.12"
  }
 },
 "nbformat": 4,
 "nbformat_minor": 5
}
