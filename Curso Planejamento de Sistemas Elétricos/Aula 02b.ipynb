{
 "cells": [
  {
   "cell_type": "markdown",
   "id": "d5f70e52",
   "metadata": {},
   "source": [
    "# Aula 02 - Planejamento de Sistemas Elétricos"
   ]
  },
  {
   "cell_type": "markdown",
   "id": "af6751fa",
   "metadata": {},
   "source": [
    "- Aula 02b: Implementação Python da Técnica de Programação Dinâmica Estocástica (Adaptada)\n"
   ]
  },
  {
   "cell_type": "code",
   "execution_count": 1,
   "id": "278440eb",
   "metadata": {},
   "outputs": [
    {
     "name": "stdout",
     "output_type": "stream",
     "text": [
      "['UHE MARCATO', 100.0, 20.0, 0.95, 60.0]\n",
      "<class 'list'>\n"
     ]
    }
   ],
   "source": [
    "usina = [ \"UHE MARCATO\", 100., 20., 0.95, 60.]\n",
    "print(usina)\n",
    "print(type(usina))"
   ]
  },
  {
   "cell_type": "markdown",
   "id": "5aac04dc",
   "metadata": {},
   "source": [
    "DICIONÁRIO"
   ]
  },
  {
   "cell_type": "code",
   "execution_count": 2,
   "id": "ff6b9bc3",
   "metadata": {},
   "outputs": [
    {
     "name": "stdout",
     "output_type": "stream",
     "text": [
      "60.0\n"
     ]
    }
   ],
   "source": [
    "usina = {\n",
    " \"Nome\": \"UHE MARCATO\",\n",
    " \"Vmax\": 100.,\n",
    " \"Vmin\": 20.,\n",
    " \"Prod\": 0.95,\n",
    " \"Engol\": 60.\n",
    "}\n",
    "print(usina[\"Engol\"])"
   ]
  },
  {
   "cell_type": "markdown",
   "id": "188501fd",
   "metadata": {},
   "source": [
    "LISTA E DICIONÁRIO"
   ]
  },
  {
   "cell_type": "code",
   "execution_count": 3,
   "id": "d63c96c8",
   "metadata": {},
   "outputs": [
    {
     "name": "stdout",
     "output_type": "stream",
     "text": [
      "5\n",
      "{'Nome': 'UHE MARCATO', 'Vmax': 100.0, 'Vmin': 20.0, 'Prod': 0.95, 'Engol': 60.0}\n",
      "{'Nome': 'UHE MARCATO 2', 'Vmax': 300.0, 'Vmin': 50.0, 'Prod': 0.85, 'Engol': 100.0}\n",
      "UHE MARCATO 60.0\n",
      "UHE MARCATO 2 100.0\n"
     ]
    }
   ],
   "source": [
    "lista_uhe = []\n",
    "usina = {\n",
    " \"Nome\": \"UHE MARCATO\",\n",
    " \"Vmax\": 100.,\n",
    " \"Vmin\": 20.,\n",
    " \"Prod\": 0.95,\n",
    " \"Engol\": 60.\n",
    "}\n",
    "#comando append adiciona o dicionário na lista vazia\n",
    "lista_uhe.append(usina)\n",
    "print(len(usina))\n",
    "\n",
    "usina = {\n",
    " \"Nome\": \"UHE MARCATO 2\",\n",
    " \"Vmax\": 300.,\n",
    " \"Vmin\": 50.,\n",
    " \"Prod\": 0.85,\n",
    " \"Engol\": 100.\n",
    "}\n",
    "\n",
    "lista_uhe.append(usina)\n",
    "print(lista_uhe[0])\n",
    "print(lista_uhe[1])\n",
    "\n",
    "#comando for:para percorrer os elementos da lista \n",
    "for usin in lista_uhe:\n",
    "    print(usin[\"Nome\"], usin[\"Engol\"])"
   ]
  },
  {
   "cell_type": "markdown",
   "id": "0162972d",
   "metadata": {},
   "source": [
    "APLICANDO GT E DADOS GERAIS E DICIONÁRIO COM TODOS OS DADOS DO SISTEMAS"
   ]
  },
  {
   "cell_type": "code",
   "execution_count": 15,
   "id": "158f4646",
   "metadata": {},
   "outputs": [
    {
     "name": "stdout",
     "output_type": "stream",
     "text": [
      "[{'Nome': 'GT1', 'Capacidade': 15.0, 'Custo': 10.0}, {'Nome': 'GT2', 'Capacidade': 10.0, 'Custo': 25.0}] [0] ['Nome']\n"
     ]
    }
   ],
   "source": [
    "lista_uhe = []\n",
    "usina = {\n",
    " \"Nome\": \"UHE MARCATO\",\n",
    " \"Vmax\": 100.,\n",
    " \"Vmin\": 20.,\n",
    " \"Prod\": 0.95,\n",
    " \"Engol\": 60.,\n",
    " \"AFL\": [\n",
    "    [ 23., 16.],\n",
    "    [ 19., 14.],\n",
    "    [ 15., 11.]\n",
    " ]\n",
    "     #Cenários = colunas e estágios=linhas\n",
    "}\n",
    "lista_uhe.append(usina)\n",
    "#Lista de UTE - Usinas térmicas\n",
    "lista_ute = []\n",
    "#Primeira Usina Térmica\n",
    "usina = {\n",
    "    \"Nome\": \"GT1\",\n",
    "    \"Capacidade\": 15.,\n",
    "    \"Custo\": 10.\n",
    " }\n",
    "lista_ute.append(usina)\n",
    "#Segunda usina\n",
    "usina = {\n",
    "    \"Nome\": \"GT2\",\n",
    "    \"Capacidade\": 10.,\n",
    "    \"Custo\": 25.\n",
    "}\n",
    "lista_ute.append(usina)\n",
    "\n",
    "#Dados Gerais - variavéis\n",
    "d_gerais = {\n",
    "    \"CDef\": 500.,\n",
    "    \"Carga\": [50.,50.,50.,],#mes1, mês2, mês3, ...\n",
    "    \"N_Disc\":3,\n",
    "    \"N_Est\": 3,\n",
    "    \"N_Cen\": 2.\n",
    "}\n",
    "\n",
    "#Sistema - Dicionário compactando todas as informações\n",
    "sistema = {\n",
    "    \"DGer\": d_gerais,\n",
    "    \"UHE\": lista_uhe,\n",
    "    \"UTE\": lista_ute\n",
    "}\n",
    "print(sistema[\"UTE\"],[0],[\"Nome\"])"
   ]
  },
  {
   "cell_type": "markdown",
   "id": "d444a67e",
   "metadata": {},
   "source": [
    "PROBLEMA DE DESPACHO TÉRMICO DA  AULA 01\n",
    "\n",
    "Tabela com os seguintes dados:\n",
    "\n",
    "   - Discretizações(Armazenamento(hm³))\n",
    "   - Afluência \n",
    "   - Decisões Ótimas(Variavéis):\n",
    "       1. UHEs (Volume final, Volume turbinado e Volume vertido),\n",
    "       2. UTEs (Usar usina térmica 1 ou 2, GT1 e GT2)\n",
    "       3. Def (Défict)\n",
    "   - Custo imediato\n",
    "   - Custo Ótimo\n",
    "   - Custo de Operação"
   ]
  },
  {
   "cell_type": "markdown",
   "id": "195687d5",
   "metadata": {},
   "source": [
    "    FUNÇÃO OBJETIVO\n",
    "    Custo Imediato\n",
    "\n",
    "$Min \\hspace{0.5cm}C_1 \\cdot GT_1 + C_2 \\cdot GT_2 + Cdef \\cdot DEF + 0.01 \\cdot V_v$\n",
    "\n",
    "    BALANÇO HÍDRICO\n",
    "    \n",
    "$V_f= V_i + AFL - V_t - V_v$\n",
    "\n",
    "    ATENDIMENTO À DEMANDA\n",
    " \n",
    "$CARGA = \\rho \\cdot V_t + GT_1 + GT_2 + DEF$\n",
    "\n",
    "    RESTRIÇÕES DE CANALIZAÇÃO\n",
    "    Limites superiores e inferiores das variavéis de decisão\n",
    "\n",
    "$20 \\le V_f \\le 100 $\n",
    "\n",
    "$0 \\le V_t \\le 60 $\n",
    "\n",
    "$0 \\le V_v \\le \\infty $\n",
    "\n",
    "$0 \\le GT_1 \\le 15 $\n",
    "\n",
    "$0 \\le GT_2 \\le 25 $\n",
    "\n",
    "$0 \\le DEF \\le \\infty $"
   ]
  },
  {
   "cell_type": "markdown",
   "id": "a722ff26",
   "metadata": {},
   "source": [
    "# Continuação Aula 02b"
   ]
  },
  {
   "cell_type": "markdown",
   "id": "39466303",
   "metadata": {},
   "source": [
    "    CRIAÇÃO DE FUNÇÃO PARA O DESPACHO   \n",
    "    RESTRIÇÕES\n",
    "    RESULTADOS\n",
    "    GRÁFICOS\n",
    "    "
   ]
  },
  {
   "cell_type": "code",
   "execution_count": 19,
   "id": "906f9913",
   "metadata": {},
   "outputs": [],
   "source": [
    "from cvxopt.modeling import variable, solvers\n",
    "from cvxopt.modeling import op\n",
    "def despacho(sistema, VI, AFL, imprime):\n",
    "\n",
    "    Num_UHE = len(sistema[\"UHE\"])\n",
    "    Num_UTE = len(sistema[\"UTE\"])\n",
    "    print(Num_UTE)\n",
    "\n",
    "    #Variavéis de Decisão de volume final\n",
    "    #Por isso a necessidade de Num_UTE e Num_UHE\n",
    "    vf = variable(Num_UHE, \"Volume final da Usina\")\n",
    "    vturb = variable(Num_UHE, \"Volume Turbinado da Usina\")\n",
    "    vv = variable(Num_UHE, \"Volume Vertido da Usina\")\n",
    "    gt = variable(Num_UTE, \"Geração na Usina Térmica\")\n",
    "    deficit = variable(1, \"Déficit de Energia no Sistema\")\n",
    "\n",
    "\n",
    "    print(vf.name)\n",
    "    print(deficit.value)\n",
    "    #Após resolver o problema de otimização \"none\"\n",
    "\n",
    "    #CONSTRUÇÃO DA FUNÇÃO OBJETIVO\n",
    "    #𝑀𝑖𝑛𝐶1⋅𝐺𝑇1+𝐶2⋅𝐺𝑇2+𝐶𝑑𝑒𝑓⋅𝐷𝐸𝐹+0.01⋅𝑉𝑣\n",
    "    #𝑀𝑖𝑛𝐶1⋅𝐺𝑇1+𝐶2⋅𝐺𝑇2\n",
    "    fob = 0\n",
    "    for i, usin in enumerate(sistema[\"UTE\"]):\n",
    "        fob += usin['Custo']*gt[i]\n",
    "\n",
    "    #𝐶𝑑𝑒𝑓⋅𝐷𝐸𝐹\n",
    "    fob += sistema[\"DGer\"][\"CDef\"]*deficit[0]\n",
    "\n",
    "    #0.01⋅𝑉𝑣\n",
    "    #E percorrer todas as usinas\n",
    "    for i,usin in enumerate(sistema[\"UHE\"]):\n",
    "        fob += 0.01*vv[i]\n",
    "\n",
    "    print(fob)#Custo Total\n",
    "\n",
    "\n",
    "    #DEFINIÇÃO DAS RESTRIÇÕES\n",
    "    #BALANÇO HÍDRICO\n",
    "    #𝑉𝑓=𝑉𝑖+𝐴𝐹𝐿−𝑉𝑡−𝑉𝑣\n",
    "    restricoes = []\n",
    "    for i, usin in enumerate(sistema[\"UHE\"]):\n",
    "        restricoes.append(vf[i] == float(VI[i]) + float(AFL[i]) - vturb[i] - vv[i])\n",
    "\n",
    "    #ATENDIMENTO À DEMANDA\n",
    "    #𝐶𝐴𝑅𝐺𝐴=𝜌⋅𝑉𝑡+𝐺𝑇1+𝐺𝑇2+𝐷𝐸𝐹\n",
    "    #𝜌⋅𝑉𝑡\n",
    "    AD = 0\n",
    "    for i, usin in enumerate(sistema[\"UHE\"]):\n",
    "        AD += usin [\"Prod\"]*vturb[i]\n",
    "\n",
    "    #𝐺𝑇1+𝐺𝑇2\n",
    "    for i, usin in enumerate(sistema[\"UTE\"]):\n",
    "        AD += gt[i]\n",
    "\n",
    "    #𝐷𝐸𝐹\n",
    "    AD += deficit[0]\n",
    "\n",
    "    restricoes.append(AD == sistema[\"DGer\"][\"Carga\"][2]) #2=estágios\n",
    "    print(restricoes[0])\n",
    "\n",
    "\n",
    "    #RESTRIÇÕES DE CANALIZAÇÃO\n",
    "    #Limites superiores e inferiores das variavéis de decisão\n",
    "        #20≤𝑉𝑓≤100\n",
    "        #0≤𝑉𝑡≤60\n",
    "        #0≤𝑉𝑣≤∞\n",
    "\n",
    "    for i, usin in enumerate(sistema[\"UHE\"]):\n",
    "        restricoes.append(vf[i] >= usin[\"Vmin\"])\n",
    "        restricoes.append(vf[i] <= usin[\"Vmax\"])\n",
    "        restricoes.append(vturb[i] >= usin[\"Engol\"])\n",
    "        restricoes.append(vturb[i] <= usin[\"Engol\"])\n",
    "        restricoes.append(vv[i] >= 0)\n",
    "\n",
    "        #0≤𝐺𝑇1≤15\n",
    "        #0≤𝐺𝑇2≤25\n",
    "    for i, usin in enumerate(sistema[\"UTE\"]):\n",
    "        restricoes.append(gt[i] >= 0)\n",
    "        restricoes.append(gt[i] <= usin[\"Capacidade\"])\n",
    "\n",
    "        #0≤𝐷𝐸𝐹≤∞\n",
    "    restricoes.append( deficit[0] >= 0)\n",
    "    \n",
    "    problema = op(fob,restricoes)\n",
    "    problema.solve('dense', 'glpk')\n",
    "    DGer = {\n",
    "        \"Deficit\": deficit[0].value,\n",
    "        \"CMO\": restricoes[Num_UHE].multiplier.value[0],\n",
    "        \"CustoTotal\": fob.value()[0]\n",
    "    }\n",
    "    #Armazenar os dados das usinas hídricas\n",
    "    lista_uhe = []\n",
    "    for i, usin in enumerate(sistema[\"UHE\"]):\n",
    "        resultado = {\n",
    "            \"vf\": vf[i].value()[0],\n",
    "            \"vturb\": vturb[i].value()[0],\n",
    "            \"vv\": vv[i].value()[0],\n",
    "            \"CMA\": restricoes[i].multiplier.value[0]\n",
    "        }\n",
    "        \n",
    "        lista_uhe.append(resultado)\n",
    "    \n",
    "    #Armazenar os dados das usinas térmicas\n",
    "    lista_ute = []\n",
    "    for i, usin in enumerate(sistema[\"UTE\"]):\n",
    "        resultado = {\n",
    "            \"gt\": gt[i].value()[0],\n",
    "        }\n",
    "        lista_ute.append(resultado)\n",
    "        \n",
    "    #Dicionário de dados com todos os resultados dos problemas de otimização\n",
    "    resultado = {\n",
    "        \"DGer\": DGer,\n",
    "        \"UHE\": lista_uhe,\n",
    "        \"UTE\": lista_ute\n",
    "    }\n",
    "    \n",
    "    \n",
    "    if imprime:\n",
    "        print(\"Custo Total: \",fob.value())\n",
    "        \n",
    "        for i, usin in enumerate(sistema['UHE']):\n",
    "            print(vf.name, i,'é ', vf[i].value(),'hm³')\n",
    "            print(vturb.name, i,'é ', vturb[i].value(),'hm³')\n",
    "            print(vv.name, i,'é ', vv[i].value(),'hm³')\n",
    "        \n",
    "        for i, usin in enumerate(sistema['UTE']):\n",
    "            print(gt.name, i,\"é \",gt[i].value(), 'MWmed')\n",
    "        \n",
    "        print(deficit.name,'é', deficit[0].value(), 'MWmed')\n",
    "        \n",
    "        for i, usin in enumerate(sistema['UHE']):\n",
    "            print('Custo Marginal da Água(CMA)',i,' é: ', restricoes[i].multiplier.value)\n",
    "            print('O Valor Marginal de Operação é: ', restricoes[Num_UHE].multiplier.value)\n",
    "            #Mulpicador de Lagrange\n",
    "            \n",
    "    #Final da Função\n",
    "    return(resultado)\n",
    "            "
   ]
  },
  {
   "cell_type": "markdown",
   "id": "dcb14566",
   "metadata": {},
   "source": [
    "### DESPACHO"
   ]
  },
  {
   "cell_type": "markdown",
   "id": "af8d5f7a",
   "metadata": {},
   "source": [
    "    - DISCRETIZAÇÕES\n",
    "    - UTILIZAÇÃO DA BIBLIOTECA ITERTOOLS"
   ]
  },
  {
   "cell_type": "code",
   "execution_count": 6,
   "id": "24092d6a",
   "metadata": {
    "collapsed": true
   },
   "outputs": [
    {
     "name": "stdout",
     "output_type": "stream",
     "text": [
      "<itertools.product object at 0x000002CBA4EDD9C0>\n",
      "(0, 0)\n",
      "(0, 50)\n",
      "(0, 100)\n",
      "(50, 0)\n",
      "(50, 50)\n",
      "(50, 100)\n",
      "(100, 0)\n",
      "(100, 50)\n",
      "(100, 100)\n"
     ]
    }
   ],
   "source": [
    "import itertools\n",
    "from itertools import product, tee\n",
    "\n",
    "#Trabalhando com 3 discretizações em cada usina\n",
    "#E essas discretizações são produto do itertools\n",
    "discretizacoes = product([0, 50, 100], repeat = 2) #repeat corresponde as usinas\n",
    "print (discretizacoes)\n",
    "\n",
    "for discret in discretizacoes:\n",
    "    print(discret)\n",
    "    "
   ]
  },
  {
   "cell_type": "code",
   "execution_count": 17,
   "id": "f53c4454",
   "metadata": {
    "collapsed": true
   },
   "outputs": [
    {
     "name": "stdout",
     "output_type": "stream",
     "text": [
      "<itertools.product object at 0x000002CBA4EBA140>\n",
      "(0, 0)\n",
      "0 0\n",
      "(0, 25)\n",
      "0 25\n",
      "(0, 50)\n",
      "0 50\n",
      "(0, 75)\n",
      "0 75\n",
      "(0, 100)\n",
      "0 100\n",
      "(25, 0)\n",
      "25 0\n",
      "(25, 25)\n",
      "25 25\n",
      "(25, 50)\n",
      "25 50\n",
      "(25, 75)\n",
      "25 75\n",
      "(25, 100)\n",
      "25 100\n",
      "(50, 0)\n",
      "50 0\n",
      "(50, 25)\n",
      "50 25\n",
      "(50, 50)\n",
      "50 50\n",
      "(50, 75)\n",
      "50 75\n",
      "(50, 100)\n",
      "50 100\n",
      "(75, 0)\n",
      "75 0\n",
      "(75, 25)\n",
      "75 25\n",
      "(75, 50)\n",
      "75 50\n",
      "(75, 75)\n",
      "75 75\n",
      "(75, 100)\n",
      "75 100\n",
      "(100, 0)\n",
      "100 0\n",
      "(100, 25)\n",
      "100 25\n",
      "(100, 50)\n",
      "100 50\n",
      "(100, 75)\n",
      "100 75\n",
      "(100, 100)\n",
      "100 100\n"
     ]
    }
   ],
   "source": [
    "discretizacoes = product([0, 25, 50, 75, 100], repeat = 2) #repeat corresponde as usinas\n",
    "print (discretizacoes)\n",
    "\n",
    "for discret in discretizacoes:\n",
    "    print(discret)\n",
    "    print(discret[0], discret[1])"
   ]
  },
  {
   "cell_type": "code",
   "execution_count": 47,
   "id": "34a18caf",
   "metadata": {},
   "outputs": [
    {
     "ename": "IndentationError",
     "evalue": "unexpected indent (3673754801.py, line 45)",
     "output_type": "error",
     "traceback": [
      "\u001b[1;36m  Input \u001b[1;32mIn [47]\u001b[1;36m\u001b[0m\n\u001b[1;33m    print (estag, discret, VI, cenarios, AFL)\u001b[0m\n\u001b[1;37m    ^\u001b[0m\n\u001b[1;31mIndentationError\u001b[0m\u001b[1;31m:\u001b[0m unexpected indent\n"
     ]
    }
   ],
   "source": [
    "from itertools import product\n",
    "import numpy as np\n",
    "import matplotlib.pyplot as plt\n",
    "\n",
    "\n",
    "Num_UHE = len(sistema[\"UHE\"])\n",
    "Num_UTE = len(sistema[\"UTE\"])\n",
    "\n",
    "passo = 100/ (sistema[\"DGer\"][\"N_Disc\"]-1) \n",
    "#Número de discretizações, disponível em d_gerais\n",
    "#Passo corresponde ao intervalo(50 em 50 ou 25 em 25 como no caso abaixo\n",
    "\n",
    "lista = np.arange(0, 100+passo, passo)\n",
    "discretizacoes = product(np.arange(0, 100+passo, passo), repeat = Num_UHE) \n",
    "#repeat corresponde as usinas\n",
    "#ele passa de ser um produto e passa ser uma lista\n",
    "discretizacoes = list(discretizacoes)\n",
    "\n",
    "for estag in np.arange(sistema[\"DGer\"][\"N_Est\"],0, -1):\n",
    "    #Imprimir o gráfico da Função de Custo Futuro\n",
    "     if Num_UHE == 1:\n",
    "        plt.figure(estag)\n",
    "        plt.title(\"Função de Custo Futuro\")\n",
    "        plt.xlabel(\"Volume Inicial (hm³)\")\n",
    "        plt.ylabel(\"Custo Total\")\n",
    "        eixox = []\n",
    "        eixoy = []\n",
    "    \n",
    "    \n",
    "for discret in discretizacoes:\n",
    "    print(estag, discret)\n",
    "       #Para várias usinas\n",
    "    VI = []\n",
    "    for i, usin in enumerate(sistema[\"UHE\"]):\n",
    "        VI.append(usin[\"Vmin\"]+(usin[\"Vmax\"]- usin[\"Vmin\"])*discret[i]/100)#Cálculo do volume útil\n",
    "    if Num_UHE == 1:\n",
    "        eixox.append(VI[0])\n",
    "            \n",
    "        #Para vários cenários\n",
    "for cenarios in np.arange(0, sistema[\"DGer\"][\"N_Cen\"]):\n",
    "            \n",
    "    AFL = []\n",
    "    for i, usin in enumerate(sistema[\"UHE\"]):\n",
    "       AFL.append(usin [\"AFL\"][estag-1][cenarios])\n",
    "        print (estag, discret, VI, cenarios, AFL)\n",
    "            #Após todos os dados das variavéis\n",
    "            #Função DESPACHO\n",
    "        resultado = despacho(sistema, VI, AFL, imprime = False )\n",
    "        print(resultado)\n",
    "        media += resultado[\"DGer\"][\"CustoTotal\"]\n",
    "        media = media/sistema[\"DGer\"][\"N_Cen\"]\n",
    "         if Num_UHE == 1:\n",
    "            eixoy.append(media)\n",
    "         if Num_UHE == 1:\n",
    "    plt.plot(eixox, eixoy, marker=\"o\", color=\"orange\" )\n",
    "\n",
    "#media += custo_total\n",
    "\n",
    "#Error: A variável problema não estava definida\n",
    "#Error: vf[i] == float(VI[i]) + float(AFL[i]) - vturb[i] - vv[i], consertado transformando as constantes em float\n",
    "#O volume turbinado é prepoderado por vturb*0.95\n",
    "#É necessário computar o valor médio do custo total tanto para um cenário otimista e pessimista\n",
    "#Essa média equivale ao Custo Ótimo\n",
    "            "
   ]
  },
  {
   "cell_type": "markdown",
   "id": "ee93386d",
   "metadata": {},
   "source": [
    "### GRÁFICOS"
   ]
  },
  {
   "cell_type": "markdown",
   "id": "2724a9f4",
   "metadata": {},
   "source": [
    "        BIBLIOTECA MATPLOTLIB"
   ]
  },
  {
   "cell_type": "code",
   "execution_count": 31,
   "id": "7fdac632",
   "metadata": {},
   "outputs": [
    {
     "data": {
      "text/plain": [
       "Text(0, 0.5, 'Custo Total ($)')"
      ]
     },
     "execution_count": 31,
     "metadata": {},
     "output_type": "execute_result"
    },
    {
     "data": {
      "image/png": "[encoded data removed]",
      "text/plain": [
       "<Figure size 432x288 with 1 Axes>"
      ]
     },
     "metadata": {
      "needs_background": "light"
     },
     "output_type": "display_data"
    }
   ],
   "source": [
    "import matplotlib \n",
    "import matplotlib.pyplot as plt\n",
    "plt.plot([1,2,3],[1,4,9])\n",
    "plt.title(\"Gráfico 1\")\n",
    "plt.xlabel(\"Volume Inicial (hm³)\")\n",
    "plt.ylabel(\"Custo Total ($)\")\n"
   ]
  },
  {
   "cell_type": "code",
   "execution_count": 33,
   "id": "269d3b17",
   "metadata": {},
   "outputs": [
    {
     "data": {
      "text/plain": [
       "Text(0, 0.5, 'Custo Total ($)')"
      ]
     },
     "execution_count": 33,
     "metadata": {},
     "output_type": "execute_result"
    },
    {
     "data": {
      "image/png": "[encoded data removed]",
      "text/plain": [
       "<Figure size 432x288 with 1 Axes>"
      ]
     },
     "metadata": {
      "needs_background": "light"
     },
     "output_type": "display_data"
    }
   ],
   "source": [
    "plt.plot([2,3,4],[1,4,9])\n",
    "plt.plot([1,2,3],[1,4,9], marker =\"d\", color=\"orange\")\n",
    "plt.title(\"Gráfico 2\")\n",
    "plt.xlabel(\"Volume Inicial (hm³)\")\n",
    "plt.ylabel(\"Custo Total ($)\")"
   ]
  },
  {
   "cell_type": "code",
   "execution_count": 37,
   "id": "19144998",
   "metadata": {},
   "outputs": [
    {
     "data": {
      "text/plain": [
       "Text(0, 0.5, 'Custo Total ($)')"
      ]
     },
     "execution_count": 37,
     "metadata": {},
     "output_type": "execute_result"
    },
    {
     "data": {
      "image/png": "[encoded data removed]",
      "text/plain": [
       "<Figure size 432x288 with 1 Axes>"
      ]
     },
     "metadata": {
      "needs_background": "light"
     },
     "output_type": "display_data"
    },
    {
     "data": {
      "image/png": "[encoded data removed]",
      "text/plain": [
       "<Figure size 432x288 with 1 Axes>"
      ]
     },
     "metadata": {
      "needs_background": "light"
     },
     "output_type": "display_data"
    }
   ],
   "source": [
    "plt.figure(1)\n",
    "plt.plot([1,2,3],[1,4,9], marker =\"o\", color=\"green\")\n",
    "plt.title(\"Teste 1\")\n",
    "plt.xlabel(\"Volume Inicial (hm³)\")\n",
    "plt.ylabel(\"Custo Total ($)\")\n",
    "\n",
    "plt.figure(2)\n",
    "plt.plot([1,2,3],[1,4,9], marker =\"d\", color=\"orange\")\n",
    "plt.title(\"Teste 2\")\n",
    "plt.xlabel(\"Volume Inicial (hm³)\")\n",
    "plt.ylabel(\"Custo Total ($)\")"
   ]
  }
 ],
 "metadata": {
  "kernelspec": {
   "display_name": "Python 3 (ipykernel)",
   "language": "python",
   "name": "python3"
  },
  "language_info": {
   "codemirror_mode": {
    "name": "ipython",
    "version": 3
   },
   "file_extension": ".py",
   "mimetype": "text/x-python",
   "name": "python",
   "nbconvert_exporter": "python",
   "pygments_lexer": "ipython3",
   "version": "3.9.12"
  }
 },
 "nbformat": 4,
 "nbformat_minor": 5
}
