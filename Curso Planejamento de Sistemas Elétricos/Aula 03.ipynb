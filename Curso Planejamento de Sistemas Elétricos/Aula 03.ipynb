{
 "cells": [
  {
   "cell_type": "markdown",
   "id": "9c35f802",
   "metadata": {},
   "source": [
    "# AULA 03 - PL ÚNICO\n",
    "\n",
    "Objetivo é apresentar uma formulação para a resolução de um problema de despacho hídrotérmico determinístico, ou seja, quando se pressupões que as vazões ás UHEs são conhecidas para todos os estágios ou períodos de planejamento.\n",
    "A resolução será obtida através de um Problema de Programação Linear Único, ou seja, complentando todos os estágios."
   ]
  },
  {
   "cell_type": "markdown",
   "id": "c7546ee4",
   "metadata": {},
   "source": [
    "    FUNÇÃO OBJETIVO\n",
    "    <inserir fórmula>\n",
    "\n",
    "        CÁLCULO GENERALISTA NÚMERO DE VARIÁVEIS DE DECISÃO\n",
    "\n",
    "$N_{est}\\cdot N_{UHE}\\cdot 3 + N_{est}\\cdot N_{UTE}+N_{est}$\n",
    "\n",
    "    DIMENSÕES DO PROBLEMA(RESTRIÇÕES)\n",
    "- Uma restrição de Igualdade de Balança Hídrico = $N_{est}\\cdot N_{UHE}$\n",
    "- Número de restrições de igualdad e AD = $N_{est}\\cdot N_{UHE}+N_{est}$\n",
    "- Uma restrição cada etágio i e para cada UHE j\n",
    "\n",
    "Se estágio (i==1): $V_{F1,j} = VI_j + AFL_{1,j} - V_{Ti,j} - V_{Vi,j}$\n",
    "\n",
    "Se estágio (i==1): $V_{F1,j} = V_{F1 - 1,j} + AFL_{1,j} - V_{Ti,j} - V_{Vi,j}$\n",
    "\n",
    "- Uma restrição para cada estágio i:\n",
    "<inserir fórmula 14:02>\n",
    "- Restrições de canalização\n",
    "Para cada UHEj: <inserir as condições>\n",
    "\n",
    "Para cada UTEj: $0\\ge gt_{i,j} \\ge GT_{MAXj}$\n",
    "\n",
    "$0\\ge def_{i} \\ge \\infty$"
   ]
  },
  {
   "cell_type": "markdown",
   "id": "ad860611",
   "metadata": {},
   "source": [
    "        DEPACHO HIDROTÉMICO DETERMINÍSTICO\n",
    "   - DADOS DE ENTRADA:\n",
    "   Usinas hidrelétricas, usinas térmicas e sistema\n",
    "   -DADOS DE SAÍDA:\n",
    "   Volume final, turbinado e vertido para cada usina hidrelétrica e cada estágio de planejamento\n",
    "   CMA(associado à equação de balanço hídrico), Geração térmica, déficit de energia, CMO, custo total de operação para cada estágio de planejamento, G´rafico temporais dos problemas de otimização"
   ]
  },
  {
   "cell_type": "markdown",
   "id": "4492187a",
   "metadata": {},
   "source": [
    "##### PROBLEMA DE INSTÂNCIA MÍNIMA\n",
    "$Min C_1\\cdot GT_{1,1}+C_2\\cdot GT_{2,1}+C_{DEF}\\cdot GT_{1,1}$\n",
    "BALAÇO HÍDRICO : <EQUAÇÕES>\n",
    "AD: <inserir equações>\n",
    "RESTRIÇÕES DE CANALIZAÇÕES:\n",
    "<inserir condições>\n",
    "\n"
   ]
  },
  {
   "cell_type": "markdown",
   "id": "8db254f9",
   "metadata": {},
   "source": [
    "##### DADOS DO SISTEMA"
   ]
  },
  {
   "cell_type": "code",
   "execution_count": null,
   "id": "64e96f1d",
   "metadata": {},
   "outputs": [],
   "source": [
    "#Inserir os dados"
   ]
  },
  {
   "cell_type": "markdown",
   "id": "3cc70324",
   "metadata": {},
   "source": [
    "##### FUNÇÃO OBJETIVO\n",
    "<inserir a fórmula 43:56>"
   ]
  },
  {
   "cell_type": "code",
   "execution_count": 1,
   "id": "fd3def65",
   "metadata": {},
   "outputs": [],
   "source": [
    "#Python na aula 03\n",
    "#LaTeX com a sintaxe das fórmulas \n",
    "\n",
    "from cvxopt.modeling import variable, solvers\n",
    "from cvxopt.modeling import op\n",
    "\n",
    "def pl_unico(sistema, cenario, imprime):\n",
    "    Num_UHE = len(sistema[\"UHE\"])\n",
    "    \n",
    "    #Variáveis de Decisão Organizadas Matricialmente\n",
    "    #Exmplo de acesso á variável de decisão de volume final\n",
    "    #CRIAÇÃO DE MATRIZES\n",
    "    #No PYTHON a numeração das linhas e colunas iniciam no zzero\n",
    "    \n",
    "    vf = []\n",
    "    #Com esse for percorremos por todas as usinas,o comando enumerate proporciona um número de ordem(1,2,3,...)e o isui assume cada lista UHE\n",
    "    #O camando variable é uma lista com tantas posições forem os estágios\n",
    "    #Nessa lista cada coluna será o volume final de determinada usina é esse valor é jogado na lista vf\n",
    "    #colunas = estágios e linhas = volume final de cada uhes\n",
    "    for i,usui in enumerate(sistema[\"UHE\"]):\n",
    "        vf.append(variable(sistema[\"DGer\"][\"Nest\"], \"Volume Final na Usina \"+usin[\"Nome\"]))\n",
    "        \n",
    "    #FUNÇÃO OBJETIVO\n",
    "    # Função de custo futuro\n",
    "    #fob inicia em 0 e vamos incrementando as parcelas dentro de um for alinhado\n",
    "    #estag varia de 0, 1 e 2, porque são 3 estágios. declarados em dados do sistema\n",
    "    \n",
    "    fob = 0\n",
    "    for estag in range(sistema[\"DGer\"][\"Nest\"]):\n",
    "        #esse for externo é realacionado aos estágios que fez o range que vai de 0 até Nest\n",
    "        #Esse loop alinhando percorre todas as usinas térmicas e a cada estagio vamos incluindo a geração térmica\n",
    "        \n",
    "        \n",
    "        for i, usin in enumerate(sistema[\"UTE\"]):\n",
    "            #A matriz com a variáveis de decição térmica é mulplicada pelo custo de operação da usina térmica\n",
    "            #A variável de controle usin assume os dados de todas as usinas térmicas do sistema\n",
    "            #Assim a fob vai sendo completada pelo(+=) com todas as parcelas custos*geração termica(por estágio)\n",
    "            fob += usin[\"custo\"]*gt[i][estag] #Verif a variável custo(renomear)\n",
    "        \n",
    "        #Para cada estágio, temos que continuar incremamento o fob COM O CUSTO DE DEFICIT*a variável de decisão deficit\n",
    "        #Essa linha inclui as parcelas de deficit\n",
    "        fob += sistema[\"DGer\"][\"CDef\"]*deficit[estag]\n",
    "        \n",
    "        #Por fim, incluir as parcelas de volume vertido\n",
    "        #O enumerate percorrer a lista de todas as usinas e a cada passagem do for é incluida a variável de controle usin e a variavel i temos a posição da usina na lista\n",
    "        for i, usin in enumerate(sistema[\"UHE\"]):\n",
    "            fob += 0.01*vv[i[estag]]\n",
    "    #Finalizando a FUNÇÃO OBJETIVO\n",
    "            \n",
    "            "
   ]
  },
  {
   "cell_type": "markdown",
   "id": "9da9fc0e",
   "metadata": {},
   "source": [
    "##### DEFINIÇÃO DAS RESTRIÇOES\n",
    "Os blocos de códigos das restrições devem está inserido no bloco acima"
   ]
  },
  {
   "cell_type": "markdown",
   "id": "16d37f0b",
   "metadata": {},
   "source": [
    "    BALANÇO HÍDRICO\n",
    "- Uma restrição cada etágio i e para cada UHE j\n",
    "\n",
    "Se estágio (i==1): $V_{F1,j} = VI_j + AFL_{1,j} - V_{Ti,j} - V_{Vi,j}$\n",
    "\n",
    "Se estágio (i==1): $V_{F1,j} = V_{F1 - 1,j} + AFL_{1,j} - V_{Ti,j} - V_{Vi,j}$\n"
   ]
  },
  {
   "cell_type": "code",
   "execution_count": null,
   "id": "fbbd0b02",
   "metadata": {},
   "outputs": [],
   "source": [
    "#RESTRIÇÕES\n",
    "#Cria-se uma lista vazia e inclui-se cada restrição\n",
    "restricoes = []\n",
    "\n",
    "#BALANÇO HÍDRICO\n",
    "\n",
    "#for para percorrer o número de UHEs, por causa do enumerate:\n",
    "#cada passagem do laço a variável usin vai assumir os dados dessa usinae o i assume uma contagem de 0 até Num_UHE\n",
    "for i, usin in enumerate(sistema[\"UHE\"]):\n",
    "    #Nesse laço, perooremos todos os estágios com o comando range\n",
    "    for estag in range(sistema[\"DGer\"][\"Nest\"]):\n",
    "        if estag == 0:\n",
    "            #Se estivermos no primeiro estágio, utilizamos o Volume Inicial\n",
    "            restricoes.append(vf[i][estag] == float(usin[\"VI\"]) + float(usin[\"AFL\"][estag][cenario]) - vt[i][estag] - vv[i][estag])\n",
    "        else:\n",
    "            #Caso contrário usamos o volume final no mês anterior\n",
    "            restricoes.append(vf[i][estag] == vf[i][estag-1] + float(usin[\"AFL\"][estag][cenario]) - vt[i][estag] - vv[i][estag])\n",
    "   \n",
    "                \n"
   ]
  },
  {
   "cell_type": "markdown",
   "id": "7ac622ee",
   "metadata": {},
   "source": [
    "    ATENDIMENTO À DEMANDA\n",
    "  \n",
    "  Para saber qual a posição CMA de qualquer UHE\n",
    "  \n",
    "  Através de = 𝑁𝑒𝑠𝑡⋅𝑁𝑈𝐻𝐸+𝑁𝑒𝑠𝑡"
   ]
  },
  {
   "cell_type": "code",
   "execution_count": null,
   "id": "b37f15b3",
   "metadata": {},
   "outputs": [],
   "source": [
    "#Averar uma equação de AD para cada estágio\n",
    "#Então no loop, a variável de controle estag variando de 0 até Nest=3\n",
    "#Quando estamos programando é importante saber criar, entender e acessar os vetores e como acessá-los\n",
    "for estag in range(sistema[\"DGer\"][\"Nest\"]):\n",
    "    AD = 0\n",
    "    #Inclusão das parcelas passo a passo\n",
    "    #Sobre as UHEs\n",
    "    for i, usin in enumerate(sistema[\"UHE\"]):\n",
    "        AD+= usin[\"Prod\"]*vt[i][estag]\n",
    "    #Sobre as UTEs\n",
    "    #Durante o for, i =assume os valores 0 e 1 e usin  = as informações de cada uma das usinas térmicas\n",
    "    for i, usin in enumerate(sistema[\"UTE\"]):\n",
    "        #Aqui incrementa-se os valores obtidos anteriormente\n",
    "        AD += gt[i][estag]\n",
    "    AD+=deficit[estag]\n",
    "    #Com as restrição pronta, adiciona à lista de restrições\n",
    "    restricoes.append(AD == sistema[\"DGer\"][\"Carga\"][estag])#consultar Carga"
   ]
  },
  {
   "cell_type": "markdown",
   "id": "6ff66496",
   "metadata": {},
   "source": [
    "     CANALIZAÇÕES\n",
    "\n",
    "@ Colocar as condições de canalização aqui"
   ]
  },
  {
   "cell_type": "code",
   "execution_count": null,
   "id": "1f1a89f2",
   "metadata": {},
   "outputs": [],
   "source": [
    "#CTRL C + CTRL V do código aula 02 = comentário com @\n",
    "\n",
    "#Laço externo percorre todos os estágios\n",
    "for estag in range(sistema[\"DGer\"][\"Nest\"]):\n",
    "    for i, usin in range(sistema[\"UHE\"]):\n",
    "        #Acrescentando as restrições à lista vazia\n",
    "        #Condições\n",
    "        #Não precisa colocar limite superior para o volume vertido\n",
    "        #O PPL evita colocar recurso nessa variável pq ela está penalizada na função objetivo\n",
    "        #(?) essa penalização: fob += 0.01*vv[i[estag]]\n",
    "        restricoes.append(vv[i][estag]>=0)\n",
    "        \n",
    "    #Térmicas\n",
    "    for i, usin in range(sistema[\"UHE\"]):\n",
    "\n",
    "    #Deficit\n",
    "    restricoes.append(deficit[estag]>= 0)\n",
    "\n",
    "#Todas essas informações tem que ser inseridas por usinas e por estágio\n",
    "#Fim Restrições de canalização"
   ]
  },
  {
   "cell_type": "markdown",
   "id": "b7f34db7",
   "metadata": {},
   "source": [
    "##### PROBLEMA DE OTIMIZAÇÃO LINEAR\n",
    "Os blocos de códigos de otimização devem ser inseridos no bloco de código da FUNÇÃO OBJETIVO\n"
   ]
  },
  {
   "cell_type": "code",
   "execution_count": null,
   "id": "fd045c70",
   "metadata": {},
   "outputs": [],
   "source": [
    "\n",
    "\n",
    "problema = op(fob, restricoes)\n",
    "#Dense e GLPK pertencem a solver da biblioteca CVXOPT\n",
    "problema.solve(\"dense\",\"glpk\")\n",
    "\n",
    "lista_uhe = []\n",
    "#Primeiramente, laço para percorrer todas as usinas elétricas\n",
    "for i, usin in enumerate(sistema[\"UHE\"]):\n",
    "    #Pula = acesso correto para cada um dos CMAs\n",
    "    pula = i*sistema[\"DGer\"][\"Nest\"]\n",
    "    #As listas vazias são para acrescentar os resultados dos problemas de otimização para determinada usina\n",
    "    cma =[]\n",
    "    volf = []\n",
    "    volt = []\n",
    "    volv = []\n",
    "\n",
    "    #Resultados da fob, multiplicador de Lagrange, etc\n",
    "    for estag in range(sistema['DGer']['Nest']):\n",
    "        #Para extrair o valor encontrado utiliza .value\n",
    "        #Para o multiplicador de Lagrange extraisse atráves do .multiplier\n",
    "        cma.append(restricoes[pula+estag].mulpiplier.value[0])\n",
    "        volf.append(vf[i][estag].value()[0])\n",
    "        volt.append(vt[i][estag].value()[0])    \n",
    "        volv.append(vv[i][estag].value()[0])\n",
    "        #No final desse loop teremos uma lista com os valores de CMA e volume de todos os estágios dessa usina\n",
    "\n",
    "    #Dicionário de dados com os resultados de todos os estágios\n",
    "    elemento = {\n",
    "        \"vf\": volf,\n",
    "        \"vt\":volt,\n",
    "        \"vv\":volv,\n",
    "        \"cma\":cma\n",
    "    }\n",
    "    #E por fim, adiciona à lista de usinas elétricas\n",
    "    lista_uhe.append(elemento)\n",
    "\n",
    "    #Fim do loop, a lista_uhe irá conter uma lista de usinas e em cada elemento dessa lista\n",
    "    #teremos os detalhes sobre as variáveis de decisão em cada um dos estágios\n",
    "    \n",
    "    #PARA AS UTEs\n",
    "    lista_ute =[]\n",
    "    for i, usin in enumerate(sistema[\"UTE\"]):\n",
    "        #Para cada usina térmica criamos uma lista para guardar os valores a geração térmica em cada estágio \n",
    "        gtermica = []\n",
    "        for estag in range(sistema[\"DGer\"][\"Nest\"]):\n",
    "            gerter.append(gt[i][estag].value()[0])\n",
    "        #Adiciona ao dicionário os valores das variáveis de decisão\n",
    "        elemento = {\n",
    "            \"gt\": gtermica\n",
    "        }\n",
    "        #Adiciona na lista de usinas térmicas \n",
    "        lista_ute.append(elemento)\n",
    "        \n",
    "    #ARMAZENAR OS DADOS DA OTIMIZAÇÃO RELATIVOS AO SISTEMA = Custo total e CMO\n",
    "    #Pular todas as restrições de balanço hídrico e ir para as retrições de AD\n",
    "    pula = Num_UHE*sistema[\"DGer\"][\"Nest\"]\n",
    "    #Inserir os CMOs de cada estágio\n",
    "    cmo = []\n",
    "    #Para percorrer os estágios\n",
    "    for estag in range (sistema[\"DGer\"][\"Nest\"]):\n",
    "        #A cada passagem do laço, acrescenta um dados e insere o multiplicador de Lagrange associado À restrição\n",
    "        #Então pula os retrições de BH e soma a variável de controle estag\n",
    "        cmo.append(restricoes[pula+estag].multiplier.value[0])\n",
    "    \n",
    "    #Dicionário para os dados de otimização\n",
    "    Dger = {\n",
    "        \"Custo Total\":fob.value()[0], #Acessando diretamente o fob\n",
    "        \"CMO\": cmo #Lista do loop acima\n",
    "    }\n",
    "    \n",
    "    #Compactar todas as váriáveis de decisão, multiplicadores e variáveis duais da FUNÇÃO OBJETIVO\n",
    "    #Em um único dicionário para os problemas de otimização\n",
    "    resultado = {\n",
    "        \"DGer\": Dger,     #Recebe o dicionário\n",
    "        \"UHE\": lista_uhe, #Recebe a lista\n",
    "        \"UTE\": lista_ute  #Recebe a lista\n",
    "    }\n"
   ]
  },
  {
   "cell_type": "markdown",
   "id": "5bea42b2",
   "metadata": {},
   "source": [
    "    IMPRIMIR OS RESULTADOS:\n",
    "  - Dos problemas de otimização\n",
    "  - Variáveis de decisão"
   ]
  },
  {
   "cell_type": "code",
   "execution_count": null,
   "id": "0f59ff1d",
   "metadata": {},
   "outputs": [],
   "source": [
    "#Parâmetro de entrada imprime\n",
    "#Se for TRUE imprime os resultados dos problemas de otimização\n",
    "#Se for FALSE, não imprime\n",
    "if imprime:\n",
    "    print(\"Custo de Operação de todos os estágios: \", fob.value())\n",
    "    \n",
    "    print(\"Volume Final por UHE em cada Estágio em (hm³)\")\n",
    "    for i, usin in enumerate(sistema[\"UHE\"]):\n",
    "        print(vf[i])\n",
    "        print(vt[i])\n",
    "        print(vv[i])\n",
    "    print(\"Geração por UTE em cada Estágio em (MWmed)\")\n",
    "    for i, usin in enumerate(sistema[\"UTE\"]):\n",
    "        print(gt[i])\n",
    "    \n",
    "    print(\"Déficit de Energia em cada Estágio em (MWmed)\")\n",
    "    print(deficit)\n",
    "\n",
    "#Para finalizar, retornar o resultado, dicionário que compacta todos os resultados\n",
    "return(resultado)\n",
    "#FIM\n",
    "        "
   ]
  },
  {
   "cell_type": "markdown",
   "id": "61e150ce",
   "metadata": {},
   "source": [
    "# PROGRAMA PRINCIPAL\n",
    "UTILIZA A FUNÇÃO DO PL UNICO(PPL) E PLOTA GRÁFICOS"
   ]
  },
  {
   "cell_type": "code",
   "execution_count": null,
   "id": "157118c3",
   "metadata": {},
   "outputs": [],
   "source": [
    "#Parâmetros (sistema, cenário, não quero imprimir os resultados das variáveis de decisão)\n",
    "#Alterar manualmente para True**\n",
    "resultado = pl_unico(sistema, 1, imprime=False) \n",
    "print(resultado)\n"
   ]
  },
  {
   "cell_type": "markdown",
   "id": "ca94aec2",
   "metadata": {},
   "source": [
    "- GRÁFICO DAS USINAS HIDRELÉTRICA"
   ]
  },
  {
   "cell_type": "code",
   "execution_count": null,
   "id": "acf0c19c",
   "metadata": {},
   "outputs": [],
   "source": [
    "\n",
    "#Interessante imprimir gráficos para demonstrar a evolução do CMO ou do volume final ou volume turbinado, etc\n",
    "import numpy as np\n",
    "import matplotlib.pyplot as plt\n",
    "#Define um vetor de zero a 2. em 3 estágios\n",
    "x = np.arange(0, sistema[\"DGer\"][\"Nest\"],1)#1=sistema...-1\n",
    "plt.figure(figsize=(10,8))\n",
    "\n",
    "#Para mais usinas foi usado o comando for\n",
    "for i, usin in enumerate(resultado[\"UHE\"]):\n",
    "    plt.plot(x+1, usin[\"vf\"], marker=\"d\")#x=estágios e d=diamond\n",
    "    \n",
    "plt.title(\"Evolução do Volume Armazenadi Final (hm³)\")\n",
    "plt.xlabel( \"Perído/mês de Planejamento\")\n",
    "plt.ylabel(\"Volume armazenado (hm³)\")\n",
    "plt.xticks(x+1)      #Comando para colocar valores no eixo x e o \"+1\" para corrigir pq no python começa no 0 e os estágios inicia em 1\n",
    "plt.grid()           #Comando para adicionar grades no gráfico\n",
    "plt.tight_layout()   #Para organizar a figura no size(10,8)\n",
    "plt.show()           #Para mostrar o gráfico"
   ]
  },
  {
   "cell_type": "markdown",
   "id": "e5d60881",
   "metadata": {},
   "source": [
    "- GRÁFICO DA GERAÇÃO DAS UTEs"
   ]
  },
  {
   "cell_type": "code",
   "execution_count": null,
   "id": "4e09aeca",
   "metadata": {},
   "outputs": [],
   "source": [
    "x = np.arange(0, sistema[\"DGer\"][\"Nest\"],1)\n",
    "plt.figure(figsize=(10,8))\n",
    "\n",
    "for i, usin in enumerate(resultado[\"UTE\"]):\n",
    "    plt.plot(x+1, usin[\"gt\"], marker=\"d\")#x=estágios e d=diamond\n",
    "\n",
    "#Como coloca legenda?   \n",
    "#O que mais adicionar nesse gráfico?\n",
    "plt.title(\"Evolução do Volume Armazenadi Final (hm³)\")\n",
    "plt.xlabel( \"Perído/mês de Planejamento\")\n",
    "plt.ylabel(\"Volume armazenado (hm³)\")\n",
    "plt.xticks(x+1)     \n",
    "plt.grid()           \n",
    "plt.tight_layout()   \n",
    "plt.show()  "
   ]
  },
  {
   "cell_type": "markdown",
   "id": "2044aba4",
   "metadata": {},
   "source": [
    "Extras\n",
    "https://drive.google.com/open?id=lejU38KljKiewONJVWHV3wcJ0kZoFumfu (verificar)"
   ]
  }
 ],
 "metadata": {
  "kernelspec": {
   "display_name": "Python 3 (ipykernel)",
   "language": "python",
   "name": "python3"
  },
  "language_info": {
   "codemirror_mode": {
    "name": "ipython",
    "version": 3
   },
   "file_extension": ".py",
   "mimetype": "text/x-python",
   "name": "python",
   "nbconvert_exporter": "python",
   "pygments_lexer": "ipython3",
   "version": "3.9.12"
  }
 },
 "nbformat": 4,
 "nbformat_minor": 5
}
