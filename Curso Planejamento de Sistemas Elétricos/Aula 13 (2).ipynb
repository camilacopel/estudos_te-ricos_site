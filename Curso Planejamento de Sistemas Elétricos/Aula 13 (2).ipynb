{
 "cells": [
  {
   "cell_type": "markdown",
   "id": "f66eaec9",
   "metadata": {},
   "source": [
    "# AULA 13 - TOOLBOX EM PYTHON\n",
    "# NEWAVE"
   ]
  },
  {
   "cell_type": "markdown",
   "id": "e579cc7a",
   "metadata": {},
   "source": [
    "- Descritivo dos arquivos do DECK do NEWAVE chamados HIDR.DAT, VAZOES.DAT e CONFHD.DAT. É mostrado como a Toolbox PySDDP realiza a leitura destes arquivos. A Toolbox PySDDP encontra-se disponível gratuitamente no repositório oficial da linguagem Python chamado PyPI.\n",
    "\n",
    "        RESUMO: ESQUEMA SIMPLIFICADO DE UMA UHE\n",
    "        <32:03 - 38:02>\n"
   ]
  },
  {
   "cell_type": "markdown",
   "id": "4b47033f",
   "metadata": {},
   "source": [
    "**- RESERVATÓRIOS EQUIVALENTES DE ENERGIA**\n",
    "\n",
    "O Brasil é predominantemente HYDRO, por exemplo a UHE Tucuruí(Pará) tem a previsão de manter-se inalterada para os próximos 10 anos.\n",
    "Nosso sistema é composto por um configuração de 12 reservatórios equivalente de energia em todo território nacional, dividido em 4 regiões: Sudeste/Centro-Oeste, Nordeste, Norte e Sul, distribuinda em longo dos principais rios"
   ]
  },
  {
   "cell_type": "markdown",
   "id": "6a8e73c3",
   "metadata": {},
   "source": [
    "**CADASTRO E CONFIGURAÇÃO HIDRELÉTRICA**\n",
    "\n",
    "- HYDR.DAT (é um arquivo binário, banco de dados com 320 registros, tratar os dados por subconjunto, a CCEE e ONS disponibilizam o software HIDROEDIT para visualizar as informações).\n",
    "\n",
    "- CONFHD.DAT (é um arquivo texto, planilha)\n",
    "\n",
    "- VAZOES.DAT (arquivo binário que contém o histórico de vazões das usinas"
   ]
  },
  {
   "cell_type": "code",
   "execution_count": null,
   "id": "0e6fbcd9",
   "metadata": {},
   "outputs": [],
   "source": [
    "#PESQUISAR COMO IMPORTAR OS DADOS DAS UHEs PELO JUPYTER\n",
    "#SISTEMA NÃO PERMITE BAIXAR A TOOLBOX PySDDP\n",
    "\n",
    "#imprime o número de usinas do arquivo = 320\n",
    "print (Caso.hydr.nr_usina)\n",
    "\n",
    "#\"i\" é a variável de controle\n",
    "#com o comando range estabelece um interetor que começa no zero e termina em 320\n",
    "for i in range(Caso.hidr.nr_usina):\n",
    "    #O camando get \"pega\" uma usina que já tem seus dados armazenados\n",
    "    #uhe é um dicionário de dados das usinas\n",
    "    #É preciso especificar o código da usina e acrescentar \"+1\"\n",
    "    uhe = Caso.hidr.get(i+1)\n",
    "    #Como não especificou o código, apenas o interetor.\n",
    "    #Irá imprimir o nome de todas as usinas\n",
    "    print(uhe[\"nome\"])\n",
    "    #Para imprimir o código e nome da usina\n",
    "    #Como foi utilizado \"\" para iniciar e fechar a string, no interno usar ''\n",
    "    \n",
    "    print(f\"Usina {uhe['nome']}, código: {uhe['codigo']}\")\n",
    "    #Para eliminar os espaços vazios no nome\n",
    "    #print(f\"Usina {uhe['nome'].strip()}, código: {uhe['codigo']}\")"
   ]
  },
  {
   "cell_type": "markdown",
   "id": "f465ddab",
   "metadata": {},
   "source": [
    "### POSTO DE MEDIÇÃO DE VAZÃO\n",
    "- Código adicional de uma UHE\n",
    "- VAZOES.DAT: vazão de natural afluente\n",
    "- SI: mádia mensal em m³/s (1931 - 2020(-2 anos no ano atual) - NO NEWAVE)\n",
    "- sofware: VAZEDIT\n",
    "- Número de referência da usina à Jusante (acoplamento espacial)\n",
    "- Casos especiais: dificilmente tereos uma usina apontando para duas usinas à jusante, normalmente uma usina aponta apenas para uma usina que estará á sua jusante. Com exceção, (uma usina apontando para duas outras) quando há estações de bombeamento que ocorre na Baciado Paraíba do Sul, Alto Tietê, desvio do Jordão na bacia do Iguaçu, etc\n",
    "- Usina Fio d'Água (Run-of-the-river Power Plant or Hydropower)\n",
    "- Simbologia para os Aproveitamentos Hidráulicos (\n",
    "\n",
    "$\\Box = usina\\hspace{0.2cm}de\\hspace{0.2cm}bombeamento$, \n",
    "\n",
    "$\\bigcirc = Usina\\hspace{0.2cm}a\\hspace{0.2cm}Fio\\hspace{0.2cm}D'Água$, \n",
    "\n",
    "$\\bigtriangleup = Usina\\hspace{0.2cm}com\\hspace{0.2cm}REservervatório$ \n",
    "\n",
    "e $\\Box+ \\bigtriangleup = REservatório$\n",
    "\n",
    "\n",
    "\n",
    "**VAZÃO NATURAL AFLUENTE**\n",
    "\n",
    "Vazões que ocorreria na seção de um rio sem ações antrópicas, como construção de usinas, desvios para abastecimento popular, etc.. não depende da configuração(topologia) ou acoplamento espacial. O ONS reconstitui as vazões, baseado-se nas vazões locais e informações sobre as ações antrópicas\n",
    "\n",
    "\n",
    "**VAZÃO INCREMENTAL**\n",
    "\n",
    "É a diferença entre a vazão natural de um posto e vazões resultantes de ações antrópicas. dados das vazões laterais, que dependem da configuração ou acoplamento espacial. E sempre não controlável.\n",
    "\n",
    "Cabeceira: é um termo para quando a vazão natural = vazão incremental"
   ]
  },
  {
   "cell_type": "code",
   "execution_count": null,
   "id": "601b27cc",
   "metadata": {},
   "outputs": [],
   "source": [
    "#CONFHD\n",
    "\n",
    "#Não há sensitive case para o nome das usinas \n",
    "#Para acessar dados das outras usinas ex.:\n",
    "#uhe = Caso.confhd.get(\"sobragi\")\n",
    "uhe = Caso.confhd.get(\"itaipu\")\n",
    "#Para exibir todas as chaves (variáveis)\n",
    "print(uhe.keys())\n",
    "#Para imprimir as vazoes de ITAIPU\n",
    "print(uhe[\"vazoes\"])\n",
    "#Para saber quantidade de itens nas vazões\n",
    "#65 é o código de Itaipu\n",
    "print(len(uhe[\"vazoes\"][65])\n",
    "      \n",
    "\n",
    "#Para imprimir os dados de maneira organizada\n",
    "#a=anos e m=meses\n",
    "for a in range(91):\n",
    "    for m in range(12):\n",
    "        print(f\"A vazão da UHE {uhe['nome'].strip()}, no ano {a+1931} e mês{m+1} é {uhe['vazoes'][a]['m']} m³/s\")"
   ]
  },
  {
   "cell_type": "markdown",
   "id": "602caeb5",
   "metadata": {},
   "source": [
    "**PARA PLOTAR UM GRÁFICO DAS VAZÕES NATURAIS**"
   ]
  },
  {
   "cell_type": "code",
   "execution_count": null,
   "id": "6ee4ac90",
   "metadata": {},
   "outputs": [],
   "source": [
    "#Usando o próprio PySDDP\n",
    "#Como fazer esse plot sem usar a ToolBox?\n",
    "#Matplotlib?\n",
    "\n",
    "Caso.confhd.plot_vaz(uhe)"
   ]
  },
  {
   "cell_type": "markdown",
   "id": "daf2a206",
   "metadata": {},
   "source": [
    "**PARA USINAS À JUSANTE**"
   ]
  },
  {
   "cell_type": "code",
   "execution_count": null,
   "id": "18273bc5",
   "metadata": {},
   "outputs": [],
   "source": [
    "#Nos dados UHE tem os dados jusante\n",
    "uhe = Caso.confhd.get(\"sobragi\")\n",
    "print(f\"O código da usina à jusante de {uhe['nome'].strip()} é {uhe['jusante']}\")\n",
    "uhe_jusante = Caso.confhd.get(uhe[\"jusante\"])\n",
    "print(uhe_jusante[\"nome\"])\n",
    "#Print: O código da usina à jusante de SOBRAGI é 129\n",
    "#SIMPLICIO\n",
    "\n",
    "\n",
    "uhe = Caso.confhd.get(\"itaipu\")\n",
    "print(uhe[\"jusante\"])\n",
    "#Print: 0\n",
    "#O código jusante de Itaipu é 0, porque no sistema brasileiro à jusante de Iyaipu seria o oceano.\n",
    "#É um código(fleg) para sinalizar que temos a última usina da cascata"
   ]
  },
  {
   "cell_type": "code",
   "execution_count": null,
   "id": "7176f6b0",
   "metadata": {},
   "outputs": [],
   "source": [
    "#APLICAÇÃO PARA VARRER SEQUENCIAMENTE A PARTIR DE UMA DETERMINADA USINA TODAS AS OUTRAS ATÉ O OCEANO\n",
    "#CAMARGOS é uma UHE Cabeceira, então posssui uma cascata extensa que termina em Itaipu\n",
    "uhe = Caso.confhd.get(\"Sao Simao\")\n",
    "\n",
    "print(uhe[\"nome\"])\n",
    "#Enquanto essa condição ocorrer ficamos pressos\n",
    "while uhe[\"jusante\"] !=0:\n",
    "    uhe = Caso.confhd.get(\"jusante\")\n",
    "    #Se a usina apresentar o vol min = vol max é uma usina fio d'água\n",
    "    print(f\"Usina {uhe['nome'].strip()}: Volume mínimo{uhe['vol_min']}; Volume máximo{uhe['vol_max']}; Volume útil{uhe['vol_util']}; \")\n",
    "    \n",
    "    #Se a usina apresentar o cota min = cota max é uma usina fio d'água\n",
    "    print(f\"Usina {uhe['nome'].strip()}: Cota mínima{uhe['cota_min']}; Cota máxima{uhe['cota_max']} \")\n",
    "    \n",
    "    #Para engolimento\n",
    "    #Essa informação NÃO ESTÁ NO HIDR.DAT\n",
    "    print(f\"O engolimento da Usina {uhe['nome'].strip()}:  é{uhe['engolimento']} \")"
   ]
  },
  {
   "cell_type": "markdown",
   "id": "d24a8057",
   "metadata": {},
   "source": [
    "### VERTIMENTO (Spillway Gates)"
   ]
  },
  {
   "cell_type": "markdown",
   "id": "bc3a58f4",
   "metadata": {},
   "source": [
    "**VOLUME MÍNIMO PARA O VERTIMENTO(APILLWAY GATES)**\n",
    "\n",
    "CONDIÇÕES:\n",
    "\n",
    "1. Quando não existe capacidade de armazenamento no reservatório e a vazão afluente á usina é superior ao turbinamento  ;\n",
    "2. Resrições operativas ou manutenção o turbinamento é baixo, porém precisamos garatir a vazão mínima para uso da água como irrigação, navegação, pesca, meio ambiente, abastecimento urbano, etc\n",
    "3. Ou, precisa garantir que uma usina à jusante receba uma afluência maior para geração de energia"
   ]
  },
  {
   "cell_type": "markdown",
   "id": "373088ab",
   "metadata": {},
   "source": [
    "### POLINÔMIOS<1:05:45>\n",
    "Para cada usina hidrelétrica possui 3 polinômios de quarto grau com as seguintes propriedades:"
   ]
  },
  {
   "cell_type": "markdown",
   "id": "8f3ba6d8",
   "metadata": {},
   "source": [
    "\n",
    "**POLINÔMIO COTA-VOLUME(PCV)** : A partir do volume em hm³ armazenado no reservatório é possível calcular-se a cota de superfície do reservatório em relação ao oceano em metros. Assim, avaliando a altura de queda do reservatório.\n",
    "\n",
    "\n",
    "$COTA = a_{PCV} + b_{PCV}\\cdot VOL + c_{PCV}\\cdot VOL² + d_{PCV}\\cdot VOL³ + e_{PCV}\\cdot VOL^4$\n",
    "\n",
    "**POLINÔMIO COTA-VOLUME(PCV)** : A partir da cota do reservatório em emtros é possível calcular-se a área, em km², da superfície do reservatório. Importante, para calcular perda de água por evaporação\n",
    "\n",
    "$ÁREA = a_{PCA} + b_{PCA}\\cdot COTA + c_{PCA}\\cdot COTA² + d_{PCA}\\cdot COTA³ + e_{PCA}\\cdot COTA^4$\n",
    "\n",
    "**POLINÔMIO VAZÃO-NÍVEL JUSANTE(PVNJ)**: A partir da vazão defluente é possível calcular a cota do canal de fuga de usina\n",
    "\n",
    "$CFUGA = a_{PVNJ} + b_{PVNJ}\\cdot Q_{defluente} + c_{PVNJ}\\cdot Q_{defluente}² + d_{PVNJ}\\cdot Q_{defluente}³ + e_{PVNJ}\\cdot Q_{defluente}^4$\n",
    "\n",
    "**ALTURA DE QUEDA BRUTA**\n",
    "\n",
    "$Q_{BRUTA} = COTA = CFUGA$"
   ]
  },
  {
   "cell_type": "code",
   "execution_count": null,
   "id": "5f5bf7bc",
   "metadata": {},
   "outputs": [],
   "source": [
    "for codigo in range(Caso.hidr.nr_usinas):\n",
    "    uhe = Caso.hidr.get(codigo+1)\n",
    "    if uhe[\"num_pol_vnj\"]>1:\n",
    "        print(uhe[\"num_pol_vnj\"], uhe[\"nome\"])\n",
    "        \n",
    "#Print: 5 EMBORCACAO\n",
    "#       3 SAO SIMAO\n",
    "#       2 JIRAU"
   ]
  },
  {
   "cell_type": "markdown",
   "id": "003c5785",
   "metadata": {},
   "source": [
    "### VAZÕES E POTÊNCIA EFETIVA DO CONJUNTO"
   ]
  },
  {
   "cell_type": "markdown",
   "id": "9f8d59a9",
   "metadata": {},
   "source": []
  },
  {
   "cell_type": "code",
   "execution_count": null,
   "id": "b4566748",
   "metadata": {},
   "outputs": [],
   "source": [
    "uhe = Caso.confhd.get(\"tucurui\")\n",
    "print(uhe[\"coef_evap\"])\n",
    "#Print: Lista de volume de evaporação por mes"
   ]
  }
 ],
 "metadata": {
  "kernelspec": {
   "display_name": "Python 3 (ipykernel)",
   "language": "python",
   "name": "python3"
  },
  "language_info": {
   "codemirror_mode": {
    "name": "ipython",
    "version": 3
   },
   "file_extension": ".py",
   "mimetype": "text/x-python",
   "name": "python",
   "nbconvert_exporter": "python",
   "pygments_lexer": "ipython3",
   "version": "3.9.12"
  }
 },
 "nbformat": 4,
 "nbformat_minor": 5
}
