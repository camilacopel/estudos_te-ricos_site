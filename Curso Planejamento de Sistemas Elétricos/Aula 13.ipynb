{
 "cells": [
  {
   "cell_type": "markdown",
   "id": "b6ea62a8",
   "metadata": {},
   "source": [
    "# AULA 13 - TOOLBOX EM PYTHON\n",
    "# NEWAVE"
   ]
  },
  {
   "cell_type": "markdown",
   "id": "e290f621",
   "metadata": {},
   "source": [
    "- Descritivo dos arquivos do DECK do NEWAVE chamados HIDR.DAT, VAZOES.DAT e CONFHD.DAT. É mostrado como a Toolbox PySDDP realiza a leitura destes arquivos. A Toolbox PySDDP encontra-se disponível gratuitamente no repositório oficial da linguagem Python chamado PyPI.\n",
    "\n",
    "        RESUMO: ESQUEMA SIMPLIFICADO DE UMA UHE\n",
    "        <32:03 - 38:02>\n"
   ]
  },
  {
   "cell_type": "markdown",
   "id": "79976b38",
   "metadata": {},
   "source": [
    "**- RESERVATÓRIOS EQUIVALENTES DE ENERGIA**\n",
    "\n",
    "O Brasil é predominantemente HYDRO, por exemplo a UHE Tucuruí(Pará) tem a previsão de manter-se inalterada para os próximos 10 anos.\n",
    "Nosso sistema é composto por um configuração de 12 reservatórios equivalente de energia em todo território nacional, dividido em 4 regiões: Sudeste/Centro-Oeste, Nordeste, Norte e Sul, distribuinda em longo dos principais rios"
   ]
  },
  {
   "cell_type": "markdown",
   "id": "589d2208",
   "metadata": {},
   "source": [
    "**CADASTRO E CONFIGURAÇÃO HIDRELÉTRICA**\n",
    "\n",
    "- HYDR.DAT (é um arquivo binário, banco de dados com 320 registros, tratar os dados por subconjunto, a CCEE e ONS disponibilizam o software HIDROEDIT para visualizar as informações).\n",
    "\n",
    "- CONFHD.DAT (é um arquivo texto, planilha)\n",
    "\n",
    "- VAZOES.DAT (arquivo binário que contém o histórico de vazões das usinas"
   ]
  },
  {
   "cell_type": "code",
   "execution_count": null,
   "id": "3c66f3e9",
   "metadata": {},
   "outputs": [],
   "source": [
    "#PESQUISAR COMO IMPORTAR OS DADOS DAS UHEs PELO JUPYTER\n",
    "#SISTEMA NÃO PERMITE BAIXAR A TOOLBOX PySDDP\n",
    "\n",
    "#imprime o número de usinas do arquivo = 320\n",
    "print (Caso.hydr.nr_usina)\n",
    "\n",
    "#\"i\" é a variável de controle\n",
    "#com o comando range estabelece um interetor que começa no zero e termina em 320\n",
    "for i in range(Caso.hidr.nr_usina):\n",
    "    #O camando get \"pega\" uma usina que já tem seus dados armazenados\n",
    "    #uhe é um dicionário de dados das usinas\n",
    "    #É preciso especificar o código da usina e acrescentar \"+1\"\n",
    "    uhe = Caso.hidr.get(i+1)\n",
    "    #Como não especificou o código, apenas o interetor.\n",
    "    #Irá imprimir o nome de todas as usinas\n",
    "    print(uhe[\"nome\"])\n",
    "    #Para imprimir o código e nome da usina\n",
    "    #Como foi utilizado \"\" para iniciar e fechar a string, no interno usar ''\n",
    "    \n",
    "    print(f\"Usina {uhe['nome']}, código: {uhe['codigo']}\")\n",
    "    #Para eliminar os espaços vazios no nome\n",
    "    #print(f\"Usina {uhe['nome'].strip()}, código: {uhe['codigo']}\")"
   ]
  },
  {
   "cell_type": "markdown",
   "id": "28e14a24",
   "metadata": {},
   "source": [
    "### POSTO DE MEDIÇÃO DE VAZÃO\n",
    "- Código adicional de uma UHE\n",
    "- VAZOES.DAT: vazão de natural afluente\n",
    "- SI: mádia mensal em m³/s (1931 - 2020(-2 anos no ano atual) - NO NEWAVE)\n",
    "- sofware: VAZEDIT\n",
    "- Número de referência da usina à Jusante (acoplamento espacial)\n",
    "- Casos especiais: dificilmente tereos uma usina apontando para duas usinas à jusante, normalmente uma usina aponta apenas para uma usina que estará á sua jusante. Com exceção, (uma usina apontando para duas outras) quando há estações de bombeamento que ocorre na Baciado Paraíba do Sul, Alto Tietê, desvio do Jordão na bacia do Iguaçu, etc\n",
    "- Usina Fio d'Água (Run-of-the-river Power Plant or Hydropower)\n",
    "- Simbologia para os Aproveitamentos Hidráulicos (\n",
    "\n",
    "$\\Box = usina\\hspace{0.2cm}de\\hspace{0.2cm}bombeamento$, \n",
    "\n",
    "$\\bigcirc = Usina\\hspace{0.2cm}a\\hspace{0.2cm}Fio\\hspace{0.2cm}D'Água$, \n",
    "\n",
    "$\\bigtriangleup = Usina\\hspace{0.2cm}com\\hspace{0.2cm}REservervatório$ \n",
    "\n",
    "e $\\Box+ \\bigtriangleup = REservatório$\n",
    "\n",
    "\n",
    "\n",
    "**VAZÃO NATURAL AFLUENTE**\n",
    "\n",
    "Vazões que ocorreria na seção de um rio sem ações antrópicas, como construção de usinas, desvios para abastecimento popular, etc.. não depende da configuração(topologia) ou acoplamento espacial. O ONS reconstitui as vazões, baseado-se nas vazões locais e informações sobre as ações antrópicas\n",
    "\n",
    "\n",
    "**VAZÃO INCREMENTAL**\n",
    "\n",
    "É a diferença entre a vazão natural de um posto e vazões resultantes de ações antrópicas. dados das vazões laterais, que dependem da configuração ou acoplamento espacial. E sempre não controlável.\n",
    "\n",
    "Cabeceira: é um termo para quando a vazão natural = vazão incremental"
   ]
  },
  {
   "cell_type": "code",
   "execution_count": null,
   "id": "ca2bb560",
   "metadata": {},
   "outputs": [],
   "source": [
    "#CONFHD\n",
    "\n",
    "#Não há sensitive case para o nome das usinas \n",
    "uhe = Caso.confhd.get(\"itaipu\")\n",
    "#Para exibir todas as chaves (variáveis)\n",
    "print(uhe.keys())"
   ]
  }
 ],
 "metadata": {
  "kernelspec": {
   "display_name": "Python 3 (ipykernel)",
   "language": "python",
   "name": "python3"
  },
  "language_info": {
   "codemirror_mode": {
    "name": "ipython",
    "version": 3
   },
   "file_extension": ".py",
   "mimetype": "text/x-python",
   "name": "python",
   "nbconvert_exporter": "python",
   "pygments_lexer": "ipython3",
   "version": "3.9.12"
  }
 },
 "nbformat": 4,
 "nbformat_minor": 5
}
