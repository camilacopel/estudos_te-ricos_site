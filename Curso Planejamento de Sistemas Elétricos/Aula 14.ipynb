{
 "cells": [
  {
   "cell_type": "markdown",
   "id": "8294a04d",
   "metadata": {},
   "source": [
    "# AULA 14 - RESERVATÓRIOS EQUIVALENTES DE ENERGIA (REEs)"
   ]
  },
  {
   "cell_type": "markdown",
   "id": "bd78a297",
   "metadata": {},
   "source": [
    "## INTRODUÇÃO\n",
    " - O Prblema do Planjamento Energético (Maldição da Dimensionalidade: temos muitas usinas e diversas possibilidades de vazões nelas, ou seja, resultando em muitos cenário e complica os cálculos na árvores completa.\n",
    " - Assim, acoplamos usinas com características semelhantes e colocamos em sistema equivalente de energia representando o comportamento de todas as usinas naquela bacia hidrográfica, seja com reservatório ou fio d'água. Reduzindo o tempo computacional de análise\n",
    "\n",
    "- REPRESENTAÇÃO: 4 Submercados(regiões) e 12 REEs, e 2 acoplamentos hidraulicos.\n",
    "\n",
    "- PRODUTIBILIDADE\n",
    "- CONSTANTE DE CONVERSÃO (NEWAVE): Usada pela ONS $1 \\frac{m³}{s}$ turbinado  equivale:\n",
    "\n",
    "$1 \\frac{m³}{s} = 2{,}630 \\frac{hm³}{mês}$"
   ]
  },
  {
   "cell_type": "markdown",
   "id": "84ac30c6",
   "metadata": {},
   "source": [
    "### ENERGIA ARMAZENADA<42:00>\n",
    "\n",
    "- A capacidade de armazenamento de um conjutno de UHES PERTENCENTES A UM MESMO REE\n",
    "- Cálculos considerando o deplecionamento completo de todos os reservatórios,, ou seja, do volume máximo ao volume mínimo ou do volume atual até o mínimo.\n",
    "- HIPOTÉTICO\n",
    "- Energia Armazenável máxima por restrição de volume de espera: Deixa  um \"espaço\" no reservatório para a chegada das chuvas. $Vol_{espera}:$ limita a capacidade de armazenamento dos reservatórios com o intuito de amortecer afluências muito elevadas(controle de cheia), informado pelo MODIF.DAT.\n",
    "- Energia Armazenável mínima por restrição de volume de operação: uma \"faixa\" antes de chegar no volume morto, também informado no MODIF.DAT"
   ]
  },
  {
   "cell_type": "markdown",
   "id": "59b68380",
   "metadata": {},
   "source": [
    "### ENERGIA NATURAL AFLUENTE\n",
    "- Estratégia de manter o nível dos reservatórios constante e turbinar toda a vazão natural afluente.\n",
    "- ENA equivale a soma da energia fio d'água e energia controlável\n",
    "- QN = vazão natural\n",
    "\n",
    "$ENA = \\sum_{i_REE} \\rho_{65porcento} \\cdot QN_i $\n",
    "\n",
    "- UTILIZANDO A VAZÃO INCREMENTAL\n",
    "\n",
    "$ENA = \\sum_{i_REE} \\rho_{65porcento}^{acum} \\cdot QN_i $"
   ]
  },
  {
   "cell_type": "markdown",
   "id": "59b5f8ae",
   "metadata": {},
   "source": [
    "### DESPACHO HIDROTÉRMICO REEs\n",
    "\n",
    "- APENAS UMA ABORDAGEM SIMPLIFICADA (APENAS ASSISTIR)\n",
    "\n",
    "- B = custo geração térmica + deficit de energia no submercado + vertimento + função de custo futuro\n",
    "- Uma equação de balanço hídrico para cada REE\n",
    "- CMA obtido pelo multiplicador de Lagrange da equação de balanço hídrico\n",
    "- AD = uma equaçoa para casa submercadoj\n",
    "- Demanda Líquida = demanda de submercado - usinas não simuladas(solar, pch, etc) - usinas submotorizadas\n",
    "- Restrições de Canalização das variáveis\n"
   ]
  },
  {
   "cell_type": "markdown",
   "id": "bad0fbd6",
   "metadata": {},
   "source": [
    "# AULA 15 \n",
    "- iNICIO TEM UMA INTRODUÇÃO DOS DECKS\n",
    "os arquivos do DECK do NEWAVE chamados MODIF.DAT e EXPH.DAT. É mostrado como a Toolbox PySDDP realiza a leitura e a escrita destes arquivos. A Toolbox PySDDP encontra-se disponível gratuitamente no repositório oficial da linguagem Python chamado PyPI.\n",
    "EXPH.DAT = usina acrescentada, porém não impletamentação de grandes usinas daqui a 5 anos\n",
    "\n",
    "- EXPH.DAT: Arquivo de expansão hidraúlica - arquivo vazio, porque até 2025 não há previsão para entrada de usinas de grande porte"
   ]
  },
  {
   "cell_type": "code",
   "execution_count": 1,
   "id": "24004fe5",
   "metadata": {},
   "outputs": [
    {
     "ename": "NameError",
     "evalue": "name 'local' is not defined",
     "output_type": "error",
     "traceback": [
      "\u001b[1;31m---------------------------------------------------------------------------\u001b[0m",
      "\u001b[1;31mNameError\u001b[0m                                 Traceback (most recent call last)",
      "Input \u001b[1;32mIn [1]\u001b[0m, in \u001b[0;36m<cell line: 4>\u001b[1;34m()\u001b[0m\n\u001b[0;32m      2\u001b[0m Local \u001b[38;5;241m=\u001b[39m \u001b[38;5;124m\"\u001b[39m\u001b[38;5;124mlocal do arquivo\u001b[39m\u001b[38;5;124m\"\u001b[39m\n\u001b[0;32m      3\u001b[0m \u001b[38;5;28;01mfrom\u001b[39;00m \u001b[38;5;21;01mPySDDP\u001b[39;00m\u001b[38;5;21;01m.\u001b[39;00m\u001b[38;5;21;01mPen\u001b[39;00m \u001b[38;5;28;01mimport\u001b[39;00m Newave\n\u001b[1;32m----> 4\u001b[0m Caso \u001b[38;5;241m=\u001b[39m Newave(\u001b[43mlocal\u001b[49m)\n",
      "\u001b[1;31mNameError\u001b[0m: name 'local' is not defined"
     ]
    }
   ],
   "source": [
    "#Importar os arquivos\n",
    "Local = \"local do arquivo\"\n",
    "from PySDDP.Pen import Newave\n",
    "Caso = Newave(local)\n",
    "\n",
    "#df = dataframe\n",
    "Caso.modif.bloco_usina[\"df\"]Caso.modif.bloco_usina[\"df\"][\"codigo\"]==1"
   ]
  },
  {
   "cell_type": "code",
   "execution_count": null,
   "id": "0d0a6e5d",
   "metadata": {},
   "outputs": [],
   "source": [
    "import pandas as pd\n",
    "import plotly.graph_objects as go\n",
    "import numpy as np\n",
    "\n",
    "n_anos = len(uhe[\"cfugat\"])\n",
    "n_meses = len(uhe[\"cfugat\"][0])\n",
    "\n",
    "t - np.arange(n_anos*n_meses) +1\n",
    "print(t)\n",
    "\n",
    "#eixo y\n",
    "#reshape transforma a matriz em um vetor\n",
    "cota = np.reshape(uhe[\"fugat\"])"
   ]
  },
  {
   "cell_type": "code",
   "execution_count": null,
   "id": "40cd4090",
   "metadata": {},
   "outputs": [],
   "source": [
    "#NO PYSDDP POSSUI GRÁFICOS PRONTOS\n",
    "\n",
    "uhe = Caso.confhd.get(\"funil\")\n",
    "Caso.confhd.plota_volume(uhe)\n",
    "#Plota um gráfico de Evolução dos volumes da usina FUNIL\n",
    "#Volume(hm³)x mês de estudo"
   ]
  },
  {
   "cell_type": "markdown",
   "id": "2d6ff347",
   "metadata": {},
   "source": [
    "### EXPH.DAT - EXPANSÃO"
   ]
  },
  {
   "cell_type": "code",
   "execution_count": null,
   "id": "f26dbe8a",
   "metadata": {},
   "outputs": [],
   "source": [
    "#Velho, mas pode ser qualquer nome\n",
    "Velho = \"local do arquivo - Newave 2018\"\n",
    "Velho.confhd.plota_expansao()\n",
    "\n",
    "#Plota o gráfico de Usinas Hidreletricas em Expansão em 2018\n",
    "# Usinas: Belo Monte, Baixo Iguaçu, Colider, etc...\n",
    "#Dados como enchimento do volume morte\n",
    "#Submotorizada\n",
    "#Dados: Motorizada\n",
    "\n",
    "print(Velho.exph.bloco_usina[\"df\"])\n",
    "#printa: todos as usinas em expansão ---2018\n",
    "#print(Velho.exph.bloco_usina[\"df\"].columns) #para saber quais são os dados da coluna"
   ]
  }
 ],
 "metadata": {
  "kernelspec": {
   "display_name": "Python 3 (ipykernel)",
   "language": "python",
   "name": "python3"
  },
  "language_info": {
   "codemirror_mode": {
    "name": "ipython",
    "version": 3
   },
   "file_extension": ".py",
   "mimetype": "text/x-python",
   "name": "python",
   "nbconvert_exporter": "python",
   "pygments_lexer": "ipython3",
   "version": "3.9.12"
  }
 },
 "nbformat": 4,
 "nbformat_minor": 5
}
