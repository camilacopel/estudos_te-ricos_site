{
 "cells": [
  {
   "cell_type": "markdown",
   "id": "16237502",
   "metadata": {},
   "source": [
    "# AULA 16 - NEWAVE(REE E SISTEMA)"
   ]
  },
  {
   "cell_type": "markdown",
   "id": "652af68e",
   "metadata": {},
   "source": [
    "#### INCOMPLETO\n",
    "**SISTEMA:** É a toolbox que descreve o funcionamento dos submercados\n",
    "\n",
    "**REE e CONFHD:** Demonstram em que submercado a usina se encontra"
   ]
  },
  {
   "cell_type": "code",
   "execution_count": null,
   "id": "f181ae18",
   "metadata": {},
   "outputs": [],
   "source": [
    "\n",
    "\n",
    "#BLOCO REE é um dicionário de dados que possui o dataframe\n",
    "Caso.ree.bloco_ree[\"df\"]\n",
    "#imprime uma planilha com as informaçõs sobre as usinas, submercados, ENERGIA ARMAZENADA\n",
    "#CÓDIGOS refere-se aos submercados\n",
    "#ex.: código 1 = SUDESTE\n",
    "\n",
    "\n",
    "ree = Caso.ree.get(1)\n",
    "#Quais são os dados que estão nas colunas = nome das colunas\n",
    "print(ree.keys())\n",
    "\n",
    "#GRÁFICOS\n",
    "ree = Caso.ree.get(1)\n",
    "#Caso.ree.plota ... (há vários dados para plotar como ea, ena bruta, etc)\n",
    "Caso.ree.plota_ena_bruta(ree)\n",
    "#Print = Gráfico da energia natural afluente bruta do REE SUDESTE (MWmes x mes em 91 anos)\n",
    "#ex.: para energia controlável\n",
    "Caso.ree.plota_ec(ree)\n",
    "\n",
    "#PARA MUDAR O NOME\n",
    "ree[\"nome\"] = \"PortoVelho\"\n",
    "#pode-se fazer a alteração pelo comando put ou pelo dataframe\n",
    "Caso.ree.put(ree)\n",
    "ree = Caso.ree.get(6)\n",
    "\n",
    "print(ree[\"nome \"])"
   ]
  },
  {
   "cell_type": "markdown",
   "id": "76054bec",
   "metadata": {},
   "source": [
    "\n",
    "## SISTEMA.DAT\n",
    "\n",
    "- Quando o deficit é acionado significa que está acontecendo um racionamento\n",
    "- É possível ter até 4 térmicas de deficit para cada submercado\n",
    "- 4 Patamares de Déficit\n",
    "- LIMITES DE INTERCÂMBIO: Troca de energia entre submercados ou intercambio mínimo entre suas regiões. Inclue um NÓ FICTÍCIO (localiza em Imperatriz) \n",
    "- Projeções do MERCADO DE ENERGIA TOTAL para cada submercado 2021-2025 (para os anos seguintes apenas repetimos os valores do último ano - ex.: 2026 =2025)\n",
    "- GERAÇÃO DE USINAS NÃO SIMULADAS: Indica o submercado, o tipo de usina e descrição (ex.: 1, 1, PCH), PCT (Pequenas Centrais Térmicas - Diesel Power Station), EOL, UFV (Solar)"
   ]
  },
  {
   "cell_type": "code",
   "execution_count": null,
   "id": "28b70814",
   "metadata": {},
   "outputs": [],
   "source": [
    "#DADOS DO SISTEMA\n",
    "Caso.sistema.bloco_sistema[\"df\"]\n",
    "#printa: tabela com os 4 submercados e nó ficticio\n",
    "\n",
    "#PARA INTERCAMBIO\n",
    "#Fornecendo energia do submercado 1 -> 2 \n",
    "intercambio = Caso.sistema.get_interc(1,2)\n",
    "print(intercambio)\n",
    "\n",
    "#Alterando dados do intercambio\n",
    "print(intercambio.keys())\n",
    "#Apenas aumenta os valores de intercambio em 30%, apenas exemplo\n",
    "intercambio[\"valor\"] = 1.3*intercambio[\"valor\"]\n",
    "Caso.sistema.put_interc(intercambio)\n",
    "Caso.sistema.escrever(\"local do arquivo\", Caso.dger)\n",
    "\n",
    "#GRÁFICO AUTOMÁTICOS\n",
    "sistema = Caso.sistema.get(2)\n",
    "#Apenas esses dois\n",
    "Caso.sistema.plota_mercado(sistema)\n",
    "Caso.sistema.plot_mercado(sistema)\n",
    "#imprime = Evolução do Mercado Total do Sul (Demanda x mês) e uma projeção de usinas não simuladas\n",
    "#NORDESTE\n",
    "sistema = Caso.sistema.get(3)\n",
    "#Apenas esses dois\n",
    "Caso.sistema.plota_mercado(sistema)"
   ]
  },
  {
   "cell_type": "markdown",
   "id": "ec6f04db",
   "metadata": {},
   "source": [
    "# AULA 17 - MODELO AUTO-REGRESSIVO PERIÓDICO - PAR(p)\n",
    "\n",
    "Essa técnica é utilizada como um dos principais \"drivers\" da cadeia de modelos oficiais. Por exemplo, o modelo Newave utiliza o PAR(p) para gerar cenários de ENA (Energia Natural Afluente) e Vazão Natural Afluente às usinas hidrelétricas. Todos os exemplos serão mostrados através da Toolbox PySDDP, a qual encontra-se disponível gratuitamente no repositório oficial da linguagem Python chamado PyPI.\n",
    "\n",
    "\n",
    "- Resolução do problema de cenários sintéticos;\n",
    "- Metodologia PAR(P);\n",
    "- Aplicação: sIMULAÇÃO DE CENÁRIOS SINTÉTICOS DE VAZÃO NATURAL afluente, também utilizado para cenários de energia natural afluente\n",
    "- Simulação para as usinas eólicas\n",
    "- Demonstração da estrutura sem aprofundamento\n"
   ]
  },
  {
   "cell_type": "markdown",
   "id": "3d0917bc",
   "metadata": {},
   "source": [
    "### INTRODUÇÃO\n",
    "- ANÁLISE DE SÉRIES TEMPORAIS: é um conjunto de observações de uma dada variável, ordenadas segundo o parâmetro tempo.\n",
    "- pEGA OS REGISTROS HISTÓRICOS, analisa os modelos estocásticos e assim, geram diversos modelos de simulação(séries sintéticas), o modelo NEWAVE gera 2.000 cenários sintéticos - PDDE\n",
    "\n"
   ]
  },
  {
   "cell_type": "markdown",
   "id": "0740b45a",
   "metadata": {},
   "source": [
    "### - METODOLOGIA DE BOX E JENKINS\n",
    "- Em 1970\n",
    "1. Especificação: Escolha da classe geral de modelos, ex.: ARIMA, Auto-regressivo, PAR(P)\n",
    "2. Identificação: Escolha da orgem dde cada estágio(meses);\n",
    "3. Estimação: Cálculo dos parâmetros $\\phi$\n",
    "4.  Diagnóstico: Verificação do modelo ajustado, verificação dos ruídos(erros)\n",
    "\n"
   ]
  },
  {
   "cell_type": "markdown",
   "id": "6c211c48",
   "metadata": {},
   "source": [
    "### HANDS ON \n",
    "\n",
    "- Preliminares: uso das vazões\n",
    "- médias e desvios padrão usando a biblioteca numpy (np.mean e np.std)\n",
    "- Função de Auto-Correlação (FAC): É a medidade da correlação entre as vazões que são separadas por k meses. Ex.: jan - mar, k=2, no NEWAVE k=6 no máximo\n",
    "- Equações de Yule-Walker\n",
    "- PySDDP: Caso.confhd.parp; Caso.confhd.plota_parp e "
   ]
  },
  {
   "cell_type": "code",
   "execution_count": null,
   "id": "95b9f960",
   "metadata": {},
   "outputs": [],
   "source": [
    "uhe = Caso.confhd.get(\"itaipu\")\n",
    "# ou uhe = Caso.confhd.get(\"66\")\n",
    "\n",
    "vazoes = uhe[\"vazoes\"]\n",
    "print(vazoes)"
   ]
  },
  {
   "cell_type": "markdown",
   "id": "d7eafa03",
   "metadata": {},
   "source": [
    "### CENÁRIOS SINTÉTICOS\n",
    "\n",
    "- Caso.confhd.gera_cen_sintéticos: plota nuvem de cenários sintéticos\n",
    "- Matriz de Resíduos: Matriz com os ruídos (erros) das vazões de 89 anos (não consta 1931 e 2021)\n",
    "- Caso condicionado: gerando as sequências condicionado ao que aconteceu nos meses anteriores (condição inicial = tendência hidrológica) usando o ano anterior\n",
    "- Caso não condicionado: séries independente, sem tendência hidrológica\n",
    "- Estatísticas Descritivas Básicas: média, desvio padrão, curtose, assimetroa, correlação espacial, etc)\n",
    "- SEquências negativas: períodos de secas e a sua periodicidade, são extensos?\n",
    "- Sequencias positivas;\n",
    "- Energia Natural Afluente: Energia controlável + Energia Fio d'água \n",
    "- FORWARD de resíduos"
   ]
  },
  {
   "cell_type": "markdown",
   "id": "55b1410e",
   "metadata": {},
   "source": [
    "# AULA 18 - MECÂNISMO DE REALOÇÃO DE ENERGIA - MRE\n",
    "é muito importante para o entendimento do processo de comercialização de energia no Sistema Elétrico Brasileiro (SEB). São descritos conceitos básicos para o entendimento do problema como, por exemplo, energia firme, energia assegurada (ou energia garantia ou garantia física), sazonalização da energia assegurada, cálculo da energia alocada. Também é abordado o procedimento de cálculo do GSF (Generation Scaling Factor) e, também, discutido como este índice impacta a receita dos geradores.\n"
   ]
  },
  {
   "cell_type": "markdown",
   "id": "17878323",
   "metadata": {},
   "source": [
    "### INTRODUÇÃO\n",
    "- ONS - responsável por gerenciar a utilização das usinas da melhor forma, supervisiona apenas usinas acima de 50MW, as PCHs podem participar ocasionalmente;\n",
    "- Mecanismos FINANCEIRO QUE VISA O COMPARTILHAMENTO DOS RISCOS hidrológicos que afetam os agentes de geração, buscando garantir a otimização dos recursos hidrelétricos do Sistema Interligado Nacional (SIN) - despachando as usinas da melhor maneira possível independente de suas relações comerciais. (compartilhando os riscos entre usinas, um processo de troca visando o melhor para o país)\n",
    "- No Brail, há muitas UHE EM CASCATAS E MÚLTIPLOS PROPRIETÁRIOS\n",
    "- ENERGIA FIRME DO SISTEMA: MÁXIMA CAPACIDADE DE SUPRIMENTO DE Energia de um conjunto de usinas sem ocorrências de deficits, visando apenas as hidrelétricas e excluindo as demais (SISTEMA.DAT), E CONSIDERANDO O REGISTRO HISTÓRICO DE AFLUências naturais e sem DEFICITs\n",
    "- PERÍODO CRÍTICO: O mês com a maior energia armazenada no sistema e a menor sem períodos de re-enchimentos (por, exemplos, chuvas) e pega o maior período crítico\n",
    "$ARTIGO$ = PUBLICADO MAIO/52 A NOV/56 sobre o período crítico.\n",
    "- ENERGIA FIRME: geração média no período crítico, ou seja, na pior condição de histórico a usina gera essa quantidade e conseguir entregar aquela carga.\n",
    "\n",
    "$SUISHI - O = cálculo\\hspace{0.2cm}oficial\\hspace{0.2cm}da\\hspace{0.2cm}energia\\hspace{0.2cm}firme$ (CEPEL)\n",
    "\n",
    "- ENERGIA ASSEGURADA: máxima produção de energia qe pode ser mantida \"continuamente\" pelas usinas ao longo dos anos, através dos cenários sintéticos, considerando UHEs e UTEs. É o valor que elas podem comercializar, vender, é o limite de contratação e não pode passar. Porém, se a ONS despachar acima disso, ela não recebe a mais.\n",
    "- SAZONALIZAÇÃO DA ENERGIA ASSEGURADA: a UHE pode vender a mais , porém a média tem que ser igual a energia assegurada(ex.: 37,8MW, vender: jan - 42MW e fev - 32MW) e pode ser um fator determinante para o sucesso financeiro da empresa\n",
    "\n",
    "- GSF (Generation Scaling Factor): é a relação entre o montante que as UHEs conseguiram entregar no sistema e a sua capacidade máxima de comercialização\n",
    "\n",
    "$GSF\\ge 1$ - As UHEs conseguirão atender todos os contratos e recebem o PLD, calculado por forma horária pela CCEE. \n",
    "\n",
    "$GSF\\le 1$ - As UHEs despacharam abaixo da soma das asseguradas e podem ter que comprar energia pelo PLD para honrar seus contratos e quando fica menor do que 1, as UHEs ficam expostas a um preço elevado porque, normalmente, muitas térmicas foram despachadas."
   ]
  },
  {
   "cell_type": "markdown",
   "id": "b646afee",
   "metadata": {},
   "source": [
    "### RECEITA BRUTA DOS GERADORES\n",
    "\n",
    "1. CONTRATOS: Ambientes Livre(ACL - precisam atender determinados pré-requisitos: carga mínima, tensão de conexão, valor do contrato, etc) e Regulado (ACR- congrega todas as distribuidoras de energia elétrica do país, e possui seus respectivos consumidores cativos, que são consumidores de pequeno porte,c omo ocnsumidores industriais de pequena potência e as distribuidores podem somente comprar energia atráves dos Leilões) que organiza isso é CCEE.\n",
    "2. SPOT: Temos influência direta do mecanismo de realocação de energia - MRE e \"gerenciadas\" pela ONS, com o objetivo de compartilhamento de riscos hidrológicos, calcular a energia alocada para cada um dos geradores. Esse modelo é calculado pelo MODELOS COMPUTACIONAIS (CMO = Multiplicador de Lagrange que está associado a equação de atendimento à demanda)\n",
    "$PLD$\n",
    "3. MRE: (Tarifa de Otimização Energética - TEO, reavaliada pela ANEEL) - os piores geradores repassam para os que geraram mais como forma de equilibrio por terem gerado mais e maior desgaste da usina para eventuais manutenções. "
   ]
  },
  {
   "cell_type": "markdown",
   "id": "c6e06450",
   "metadata": {},
   "source": [
    "### EXEMPLO"
   ]
  }
 ],
 "metadata": {
  "kernelspec": {
   "display_name": "Python 3 (ipykernel)",
   "language": "python",
   "name": "python3"
  },
  "language_info": {
   "codemirror_mode": {
    "name": "ipython",
    "version": 3
   },
   "file_extension": ".py",
   "mimetype": "text/x-python",
   "name": "python",
   "nbconvert_exporter": "python",
   "pygments_lexer": "ipython3",
   "version": "3.9.12"
  }
 },
 "nbformat": 4,
 "nbformat_minor": 5
}
