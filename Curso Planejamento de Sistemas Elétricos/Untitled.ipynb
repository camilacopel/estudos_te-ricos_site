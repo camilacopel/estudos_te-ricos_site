{
 "cells": [
  {
   "cell_type": "markdown",
   "id": "4713716a",
   "metadata": {},
   "source": [
    "# TESTE"
   ]
  },
  {
   "cell_type": "code",
   "execution_count": null,
   "id": "56491a77",
   "metadata": {},
   "outputs": [],
   "source": [
    "X = 2\n",
    "Y = [1, 2,3 ]"
   ]
  },
  {
   "cell_type": "markdown",
   "id": "e97692ed",
   "metadata": {},
   "source": [
    "### teste\n"
   ]
  },
  {
   "cell_type": "code",
   "execution_count": null,
   "id": "c498813c",
   "metadata": {},
   "outputs": [],
   "source": []
  },
  {
   "cell_type": "code",
   "execution_count": null,
   "id": "85582c1e",
   "metadata": {},
   "outputs": [],
   "source": []
  },
  {
   "cell_type": "code",
   "execution_count": null,
   "id": "b7ac5221",
   "metadata": {},
   "outputs": [],
   "source": []
  }
 ],
 "metadata": {
  "kernelspec": {
   "display_name": "Python 3 (ipykernel)",
   "language": "python",
   "name": "python3"
  },
  "language_info": {
   "codemirror_mode": {
    "name": "ipython",
    "version": 3
   },
   "file_extension": ".py",
   "mimetype": "text/x-python",
   "name": "python",
   "nbconvert_exporter": "python",
   "pygments_lexer": "ipython3",
   "version": "3.9.12"
  }
 },
 "nbformat": 4,
 "nbformat_minor": 5
}
