{
 "cells": [
  {
   "cell_type": "markdown",
   "id": "6ad83db6",
   "metadata": {},
   "source": [
    "# DIO - PROGRAMAÇÃO ORIENTADA A OBJETOS"
   ]
  },
  {
   "cell_type": "markdown",
   "id": "767f9806",
   "metadata": {},
   "source": [
    "### OBJETIVOS\n",
    "\n",
    "- Paradigma Estrutura(PE): tem representação simplista, focando em funções e dados\n",
    "- Paradigma Orientado a Objeto (POO): tem represantação realista, focando na modelagem\n",
    "e nas interações entre elas"
   ]
  },
  {
   "cell_type": "markdown",
   "id": "84d15a9f",
   "metadata": {},
   "source": [
    "### DEFINIÇÃO\n",
    "- A Orientaçõa a Objetos é uma paradigma de análise e programação de sistemas de software baseado na composição e interação entre diversas unidades de software chamados de objetos. Porque o OO foca em que problema vamos resolver, analisando-o."
   ]
  },
  {
   "cell_type": "markdown",
   "id": "8b2250d9",
   "metadata": {},
   "source": [
    "### FUNDAMENTOS\n",
    "**ABSTRAÇÃO:**\n",
    "- Processo que isolam características de um objeto, considerando os que tenham em comum certos grupos de objetos.\n",
    "\n",
    "**REUSO:**\n",
    "- Capacidade de criar novas unidades de código a partir de outras já existentes.\n",
    "\n",
    "**ENCAPSULAMENTO:**\n",
    "- Capacidade de esconder complexidades e proteger dados."
   ]
  },
  {
   "cell_type": "markdown",
   "id": "25b7aac9",
   "metadata": {},
   "source": [
    "### ESTRUTURA BÁSICA"
   ]
  },
  {
   "cell_type": "markdown",
   "id": "04f9c21f",
   "metadata": {},
   "source": [
    "**CLASSE:**\n",
    "- A OO começa com uma classe. É uma estrutura que abstrai um conjunto de objetos com características similares, fazendo um molde, definindo o comportamento de seus objetos através de métodos descrevendo os serviços providos por objetos e quais informações podem armazenar. (substantivos e com nomes significativos)."
   ]
  },
  {
   "cell_type": "code",
   "execution_count": 13,
   "id": "663f61c9",
   "metadata": {},
   "outputs": [],
   "source": [
    "#Criando uma classe\n",
    "#Por norma com letra maiúscula, mas no console com letra minúscula\n",
    "class Carro1:\n",
    "    pass"
   ]
  },
  {
   "cell_type": "markdown",
   "id": "93ddd55d",
   "metadata": {},
   "source": [
    "**ATRIBUTO**\n",
    "- Representa as características que fará parte dos objetos criados a partir de uma classe, definindo sua estrutura de dados.(substantivos e adjetivos, contexto, etc)\n",
    "- Atributo é próprio e peculiar a alguém ou alguma coisa, diferente de uma variável: sujeito a variações ou mudanças, sendo inconstante. Sendo assim, as variáveis tem seu ciclo de vida apenas dentro dos métodos e os atributos em classes e funções."
   ]
  },
  {
   "cell_type": "markdown",
   "id": "ec6cf8ec",
   "metadata": {},
   "source": [
    "**MÉTODO:**\n",
    "- Serve para identificar quais serviços e ações que a classe oferece, definindo e realizando um determinado comportamento. (verbos, nomes significativos e contexto);\n",
    "\n",
    "**MÉTODOS ESPECIAIS:**\n",
    "\n",
    "- CONSTRUTOR: Constrói um objeto para a classe, prover alguns valores iniciais, \n",
    "- DESTRUTOR: auxilia a destruição do objeto (coletor de lixo: limpa a memória), necessário quando queira liberar recursos, como portas seriais."
   ]
  },
  {
   "cell_type": "code",
   "execution_count": 4,
   "id": "fd91d502",
   "metadata": {},
   "outputs": [
    {
     "ename": "IndentationError",
     "evalue": "unexpected indent (3708161290.py, line 7)",
     "output_type": "error",
     "traceback": [
      "\u001b[1;36m  Input \u001b[1;32mIn [4]\u001b[1;36m\u001b[0m\n\u001b[1;33m    self.cor = cor\u001b[0m\n\u001b[1;37m    ^\u001b[0m\n\u001b[1;31mIndentationError\u001b[0m\u001b[1;31m:\u001b[0m unexpected indent\n"
     ]
    }
   ],
   "source": [
    "class Carro():\n",
    "    \n",
    "    #Método Construtor:\n",
    "    #não é necessário definir o tipo de variável: type (boas práticas)\n",
    "    def __init__(self, cor:str, modelo:str, tanque:int):\n",
    "     \"\"\"Criando os atributos e método construtor\"\"\"\n",
    "        self.cor = cor\n",
    "        self.modelo = modelo\n",
    "        self.capacidade_tanque = tanque\n",
    "        \n",
    "    def precotanque(self):\n",
    "    \"\"\"Criando um método\"\"\"\n",
    "    \n",
    "        gasolina = 5.59\n",
    "        print(f'O preço para encher o tanque = {self.capacidade_tanque * gasolina}reais.')\n",
    "        print(f'O preço da gosolina{gasolina} e a capacidade do tanque{self.capacidade_tanque}')\n",
    "    \n",
    "#   def __del__(self):\n",
    "#       \"\"\"Método destrutor\"\"\"\n",
    "#        pass\n",
    "\n",
    "Carro.gasolina()"
   ]
  },
  {
   "cell_type": "markdown",
   "id": "af806deb",
   "metadata": {},
   "source": [
    "**OBJETO:**\n",
    "- Conceito/entidade que é definida inicialmente em uma classe e posteriormente serão instanciados objetos distintos.\n",
    "\n",
    "**MENSAGEM:**\n",
    "- É o processo de ativação de um método de um objeto, algum processo executável"
   ]
  },
  {
   "cell_type": "code",
   "execution_count": null,
   "id": "e85314d9",
   "metadata": {},
   "outputs": [],
   "source": [
    "#Criando um objeto\n",
    "carro = Carro()\n",
    "\n",
    "#Gerando uma mensagem\n",
    "carro.cor(\"Amarelo\")\n",
    "carro.capacidade_tanque(450)"
   ]
  },
  {
   "cell_type": "markdown",
   "id": "49b60bb5",
   "metadata": {},
   "source": [
    "### Herança\n",
    "- É o relacionamento entre classes (relação superclasse e subclasse). Assim, a subclasse consegue reaproveitar os atributos e métodos herdados e ainda definir seus próprios membros(atributos e métodos).\n",
    "- A principal finalidade da Herança é a criação de subtipos, poder definir métodos mais específicos do objeto. \n",
    "- Sendo assim o reuso é apenas uma consequência e não uma finalidade da propriedade. Associação também é possível o reuso dos métodos."
   ]
  },
  {
   "cell_type": "markdown",
   "id": "4c6bdb2f",
   "metadata": {},
   "source": [
    "**TIPOS DE HERANÇA:**\n",
    "- SIMPLES: A classe filha tem apenas uma mãe.\n",
    "- MÚLTIPLAS: A classe filha possui 1+ classes mães. Um problema desse tipo de herança é o problema do diamante, gerando um conflito de nomes em seus membros"
   ]
  },
  {
   "cell_type": "markdown",
   "id": "ba9c91b3",
   "metadata": {},
   "source": [
    "**MUDANÇA DE HIERARQUIA:**\n",
    "- UPCAST E DOWNCAST: Python não possui essa funcionalidade por ser uma linguagem dinâmica(ducktyping) com um processo de compilação flexível, diferente de Java e C#.\n",
    "- Python é uma linguagem dinamicamente tipada que não possui interfaces. Essas características da linguagem deixam claro que Python não implementa polimorfismo da mesma forma que linguagens como Java e PHP: utiliza Duck Typing.\n",
    "- Duck typing é um estilo de codificação de linguagens dinamicamente tipadas onde o tipo de uma variável não importa, contanto que seu comportamento seja o desejado. O nome \"tipagem de pato\" vem da expressão \"se anda como pato, nada como um pato e faz quack como um pato, então provavelmente é um pato\".\n",
    "- Como Python não possui suporte a interfaces, a abordagem para prevenir problemas como executar um método que não existe em um objeto segue outro tipo de prática: a EAFP(easier to ask for forgiveness than permissione), do inglês \"Melhor pedir perdão que permissão\", é um estilo de codificação que envolve assumir que os comportamentos desejados em um determinado objeto existem e qualquer problema relacionado é tratado como uma exceção, assim o código se mantém limpo, conciso e legível."
   ]
  },
  {
   "cell_type": "markdown",
   "id": "035c9c7f",
   "metadata": {},
   "source": [
    "**TRY, EXPECT AND RAISE:**\n",
    "- executa dentro de uma declaração try/except: se o método não existir, uma exceção do tipo AttributeError será disparada e capturada pelo except, então uma mensagem será impressa informando que há um problema.\n"
   ]
  },
  {
   "cell_type": "code",
   "execution_count": null,
   "id": "e697a6ae",
   "metadata": {},
   "outputs": [],
   "source": [
    "#Conceito de Ducktyping\n",
    "class Deposito:\n",
    "    def realizar(self):\n",
    "        print(\"Deposito: Realizar\")\n",
    "        \n",
    "class Transferencia:\n",
    "    def realizar(self):\n",
    "        print(\"Transferência: realizar\")\n",
    "\n",
    "class Billing:\n",
    "    def realizar_pagamento(self, operacao):\n",
    "        try:\n",
    "            operacao.realizar()\n",
    "        except AttributeError:\n",
    "            print(\"A operação não pode ser realizada!\")\n",
    "#--------------------------------------------------------------------------------\n",
    "def main():\n",
    "    billing = Billing()\n",
    "    deposito = Deposito()\n",
    "    transf = Transferencia()\n",
    "    billing.realizar_pagamento(deposito)\n",
    "    billing.realizar_pagamento(transf)\n",
    "\n",
    "if __name__=='__main__':\n",
    "    main()"
   ]
  },
  {
   "cell_type": "markdown",
   "id": "0937de9b",
   "metadata": {},
   "source": [
    "**POLIMORFISMO:**\n",
    "- Um dos conceitos mais importantes e pode ser usado com herança; \n",
    "- A possibilidade do mesmo método, executar um comportamento diferente, ou seja, a mesma ação comportando-se diferente. Trazendo flexibidade ao código.\n",
    "- Todas as classes filhas possue o mesmo método, porém com execução diferente.\n",
    "- Poliformismo ocorre quando os objetos são diferentes\n",
    "\n",
    "**SOBRESCRITA:**\n",
    "- A classe filha pode ou não sobrescrever um dos métodos da classe mãe;"
   ]
  },
  {
   "cell_type": "code",
   "execution_count": 1,
   "id": "b5815134",
   "metadata": {},
   "outputs": [],
   "source": [
    "#Classe mãe (super classe):\n",
    "class Veiculo():\n",
    "    pass\n",
    "\n",
    "#Classes filhas (sub-classes):\n",
    "class Carro2(Veiculo):\n",
    "    pass\n",
    "\n",
    "class Moto(Veiculo):\n",
    "    pass\n",
    "\n",
    "#Herança múltipla:\n",
    "class Caminhao(Veiculo, Carro2):\n",
    "    pass"
   ]
  },
  {
   "cell_type": "markdown",
   "id": "d91c8fdf",
   "metadata": {},
   "source": [
    "### ASSOCIAÇÃO\n",
    "Relacionamento entre classe e objetos: A associação entre dois objetos ocorre quando eles são completamente independentes entre si mas eventualmente estão relacionados. Em associação não temos dono. os obJectos têm tempo de vida próprios. e os child obJects são independentes.\n",
    "\n",
    "**ESTRUTURAL:**\n",
    "\n",
    "- Composição: Há uma dependência, onde tal atributo só há necessitade de existância se houver o tiver um atributo relacionado. (ex.: endereço vínculado a uma pessoa); A composição é uma agregação que possui dependência entre os objetos, ou seja, se o objeto principal for destruído, os objetos que o compõe não podem existir mais. Há a chamada relação de morte.\n",
    "\n",
    "- Agregação: Os dois atributos podem existir sem dependerem um do outro (ex.: alunos e disciplina). A agregação não deixa de ser uma associação mas existe uma exclusividade e determinados objetos só podem se relacionar a um objeto específico. É uma relação de um para muitos.\n",
    "\n",
    "**COMPORTAMENTAL:**\n",
    "\n",
    "- Relação de total dependência, aplicada aos métodos, (ex.: class Compra..def finalizar  e class cupom, a classe cupom é completamente dependente do método finalizar, ou seja, def finalizar recebe cupom como parâmetro)"
   ]
  },
  {
   "cell_type": "markdown",
   "id": "2c9bc7cd",
   "metadata": {},
   "source": [
    "### INTERFACE\n",
    "- PYTHON NÃO POSSUE INTERFACE;\n",
    "- Define um contrato que deve er seguido pela classe que a implementa, compromentendo-se a realizar todos os omportamentos que a interface disponibiliza.\n",
    "- Uma forma de abstrair implementações, mas criar acordos de comunicação."
   ]
  },
  {
   "cell_type": "markdown",
   "id": "9c9c6954",
   "metadata": {},
   "source": [
    "### PACOTES\n",
    "- São uma organização física ou lógica criada para separar classes com responsabilidades distintas. Facilitando sua aplicação e separando clases de finalidades e representatividades diferentes.\n",
    "- Servindo para separar classes;\n",
    "- Como criação de classes utilitárias;\n",
    "- Arquivo com __init__.py era necessário na versão 2python para identificar que o arquivo tratava-se de um package. Na versão 3python não é necesário (from...import...)."
   ]
  },
  {
   "cell_type": "markdown",
   "id": "30e73c23",
   "metadata": {},
   "source": [
    "### VISIBILIDADES\n",
    "\n",
    "- Um modificador de acesso tem como finalidade determinar até que ponto uma classe, atributo ou método pode ser usado (private, protected e public)\n",
    "- Em Python: TUDO É PÚBLICO\n"
   ]
  },
  {
   "cell_type": "markdown",
   "id": "f3a52b14",
   "metadata": {},
   "source": [
    "### CONCLUSÃO\n",
    "\n",
    "- DESING PATTERNS (Padrões de Projeto);\n",
    "- Boas Práticas: SOLID (conjunto de boas práticas orientada à objetos), código, técnicas de programação, etc:\n",
    "- REFATORAÇÃO(A refatoração é uma forma disciplinada de reestruturar o código quando pequenas mudanças são feitas nele para melhorar o design. Um aspecto importante de uma refatoração é que ela melhora o design sem mudar o comportamento do design; uma refatoração não adiciona nem remove funcionalidade.);\n",
    "- UML (Um diagrama de objetos em UML é semelhante ao diagrama de classes porque trata dos atributos de um diagrama de classes e como esses objetos se relacionam entre si. Por exemplo, no modelo de caixa eletrônico abaixo, os títulos das classes mostram o tipo de cartão, conta e ação que o cliente usa.)\n",
    "- FRAMEWORKS (ramework é um conjunto de códigos prontos que podem ser usados no desenvolvimento de aplicativos e sites. O objetivo dessa ferramenta é aplicar funcionalidades, comandos e estruturas já prontas para garantir qualidade no desenvolvimento de um projeto.)"
   ]
  }
 ],
 "metadata": {
  "kernelspec": {
   "display_name": "Python 3 (ipykernel)",
   "language": "python",
   "name": "python3"
  },
  "language_info": {
   "codemirror_mode": {
    "name": "ipython",
    "version": 3
   },
   "file_extension": ".py",
   "mimetype": "text/x-python",
   "name": "python",
   "nbconvert_exporter": "python",
   "pygments_lexer": "ipython3",
   "version": "3.9.12"
  }
 },
 "nbformat": 4,
 "nbformat_minor": 5
}
