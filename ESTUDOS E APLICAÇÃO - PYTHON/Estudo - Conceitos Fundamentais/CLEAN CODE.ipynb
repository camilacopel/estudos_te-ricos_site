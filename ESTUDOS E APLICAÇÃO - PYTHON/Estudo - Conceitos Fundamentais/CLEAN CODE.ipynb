{
 "cells": [
  {
   "cell_type": "markdown",
   "id": "f4309143",
   "metadata": {},
   "source": [
    "# CLEAN CODE"
   ]
  },
  {
   "cell_type": "code",
   "execution_count": 1,
   "id": "f9c78aae",
   "metadata": {
    "collapsed": true
   },
   "outputs": [
    {
     "name": "stdout",
     "output_type": "stream",
     "text": [
      "The Zen of Python, by Tim Peters\n",
      "\n",
      "Beautiful is better than ugly.\n",
      "Explicit is better than implicit.\n",
      "Simple is better than complex.\n",
      "Complex is better than complicated.\n",
      "Flat is better than nested.\n",
      "Sparse is better than dense.\n",
      "Readability counts.\n",
      "Special cases aren't special enough to break the rules.\n",
      "Although practicality beats purity.\n",
      "Errors should never pass silently.\n",
      "Unless explicitly silenced.\n",
      "In the face of ambiguity, refuse the temptation to guess.\n",
      "There should be one-- and preferably only one --obvious way to do it.\n",
      "Although that way may not be obvious at first unless you're Dutch.\n",
      "Now is better than never.\n",
      "Although never is often better than *right* now.\n",
      "If the implementation is hard to explain, it's a bad idea.\n",
      "If the implementation is easy to explain, it may be a good idea.\n",
      "Namespaces are one honking great idea -- let's do more of those!\n"
     ]
    }
   ],
   "source": [
    "import this"
   ]
  },
  {
   "cell_type": "markdown",
   "id": "90f2bf47",
   "metadata": {},
   "source": [
    "### Básico\n",
    "\n",
    "- Nomes significativos;\n",
    "- Uso de nomes passíveis de busca (Se um nome requer um comentário, então ele não revela seu propósito! Devemos escolher nomes que sejam claros e objetivos, que expressam claramente a sua intenção.;\n",
    "- Evite números mágicos (Números mágicos são aqueles números aleatórios que de vez em quando você acaba encontrando no código, eles são “mágicos” porquê se assemelham com o truque de um mágico, sendo necessário uma explicação para que sejam entendidos);\n",
    "\n",
    "### Condicionais\n",
    "\n",
    "- Utilize booleanos de forma implícita;\n",
    "- Evite condicionais negativos (Se você tiver um método que checa um condicional negativo e quiser que esse método retorne true quando a condição for verdadeira, você vai ter que utilizar o operador de negação em uma condição que já testa a negação, isso pode acabar confundido um pouco a leitura do código.)\n",
    "- Encapsule condicionais (Dessa maneira você estimula o reaproveitamento e facilita a manutenção do código, se precisar mudar essa condição um dia, você irá mudar em um único local. Outra vantagem é que você acaba evitando possíveis erros de implementação — o programador pode escrever “published” de forma errada, por exemplo — trazendo pra dentro do objeto a responsabilidade de lidar com o condicional);\n",
    "\n",
    "### Comentários\n",
    "- Não faça comentários irrelevantes, eles só poluem o código…\n",
    "- Não devem explicar o código (Lembre-se que o código deve ser de fácil entendimento e leitura, deve ser comparado como uma história. Por tanto, você não deve fazer um comentário para explicar o código, ele deve ser auto explicativo.)\n",
    "- Não use comentários para versionar o código (Utilize ferramentas apropriadas pra isso, se sua intenção é versionar o código, utilize um controle de versão como o Git ou Subversion, por exemplo.)\n",
    "\n",
    "### Funções\n",
    "- Dê preferência para funções nativas (Além de limpar o código economizando algumas linhas, as funções nativas são executas mais rápidas.)\n",
    "- Funções pequenas!\n",
    "- Evite o uso de flags como parâmetro (Porquê? porque o uso de flags indicam que essa função faz mais de uma coisa. Lembre-se, funções devem fazer apenas uma coisa.)"
   ]
  },
  {
   "cell_type": "markdown",
   "id": "0c27972d",
   "metadata": {},
   "source": [
    "## **S.O.L.I.D: Os 5 princípios da POO**\n",
    "\n",
    "**DEFINIÇÃO:**\n",
    "- A sistemática dos princípios SOLID tornam o software mais robusto, escalável e flexível, deixando-o tolerante a mudanças, facilitando a implementação de novos requisitos para a evolução e manutenção do sistema.\n",
    "\n",
    "S — Single Responsiblity Principle (Princípio da responsabilidade única): Esse princípio declara que uma classe deve ser especializada em um único assunto e possuir apenas uma responsabilidade dentro do software, ou seja, a classe deve ter uma única tarefa ou ação para executar.O princípio da responsabilidade única não se limita somente a classes, ele também pode ser aplicado em métodos e funções, ou seja, tudo que é responsável por executar uma ação, deve ser responsável por apenas aquilo que se propõe a fazer.\n",
    "\n",
    "O — Open-Closed Principle (Princípio Aberto-Fechado): Objetos ou entidades devem estar abertos para extensão, mas fechados para modificação, ou seja, quando novos comportamentos e recursos precisam ser adicionados no software, devemos estender e não alterar o código fonte original.  Alterar uma classe já existente para adicionar um novo comportamento, corremos um sério risco de introduzir bugs em algo que já estava funcionando.\n",
    "\n",
    "L — Liskov Substitution Principle (Princípio da substituição de Liskov): Uma classe derivada deve ser substituível por sua classe base.\n",
    "\n",
    "I — Interface Segregation Principle (Princípio da Segregação da Interface): Uma classe não deve ser forçada a implementar interfaces e métodos que não irão utilizar.\n",
    "\n",
    "D — Dependency Inversion Principle (Princípio da inversão da dependência): Dependa de abstrações e não de implementações. Módulos de alto nível não devem depender de módulos de baixo nível. Ambos devem depender da abstração. Abstrações não devem depender de detalhes. Detalhes devem depender de abstrações."
   ]
  },
  {
   "cell_type": "code",
   "execution_count": null,
   "id": "0cc3f15f",
   "metadata": {},
   "outputs": [],
   "source": []
  }
 ],
 "metadata": {
  "kernelspec": {
   "display_name": "Python 3 (ipykernel)",
   "language": "python",
   "name": "python3"
  },
  "language_info": {
   "codemirror_mode": {
    "name": "ipython",
    "version": 3
   },
   "file_extension": ".py",
   "mimetype": "text/x-python",
   "name": "python",
   "nbconvert_exporter": "python",
   "pygments_lexer": "ipython3",
   "version": "3.9.12"
  }
 },
 "nbformat": 4,
 "nbformat_minor": 5
}
