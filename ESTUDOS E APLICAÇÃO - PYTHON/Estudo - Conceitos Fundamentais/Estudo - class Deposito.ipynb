{
 "cells": [
  {
   "cell_type": "code",
   "execution_count": 1,
   "id": "8c01efe7",
   "metadata": {},
   "outputs": [],
   "source": [
    "class Deposito:\n",
    "    def realizar(self):\n",
    "        print(\"Deposito: Realizar\")\n",
    "        \n",
    "class Transferencia:\n",
    "    def realizar(self):\n",
    "        print(\"Transferência: realizar\")"
   ]
  },
  {
   "cell_type": "code",
   "execution_count": 2,
   "id": "a63b47e7",
   "metadata": {},
   "outputs": [],
   "source": [
    "class Billing:\n",
    "    def realizar_pagamento(self, operacao):\n",
    "        try:\n",
    "            operacao.realizar()\n",
    "        except AttributeError:\n",
    "            print(\"A operação não pode ser realizada!\")\n"
   ]
  },
  {
   "cell_type": "code",
   "execution_count": 7,
   "id": "53ad874e",
   "metadata": {},
   "outputs": [
    {
     "name": "stdout",
     "output_type": "stream",
     "text": [
      "Deposito: Realizar\n",
      "Trnasferência: realizar\n"
     ]
    }
   ],
   "source": [
    "def main():\n",
    "    billing = Billing()\n",
    "    deposito = Deposito()\n",
    "    transf = Transferencia()\n",
    "    billing.realizar_pagamento(deposito)\n",
    "    billing.realizar_pagamento(transf)\n",
    "\n",
    "if __name__=='__main__':\n",
    "    main()"
   ]
  },
  {
   "cell_type": "code",
   "execution_count": null,
   "id": "426eba5f",
   "metadata": {},
   "outputs": [],
   "source": []
  }
 ],
 "metadata": {
  "kernelspec": {
   "display_name": "Python 3 (ipykernel)",
   "language": "python",
   "name": "python3"
  },
  "language_info": {
   "codemirror_mode": {
    "name": "ipython",
    "version": 3
   },
   "file_extension": ".py",
   "mimetype": "text/x-python",
   "name": "python",
   "nbconvert_exporter": "python",
   "pygments_lexer": "ipython3",
   "version": "3.9.12"
  }
 },
 "nbformat": 4,
 "nbformat_minor": 5
}
