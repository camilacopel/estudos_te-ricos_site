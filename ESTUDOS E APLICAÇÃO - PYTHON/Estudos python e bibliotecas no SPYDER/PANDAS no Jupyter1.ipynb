{
 "cells": [
  {
   "cell_type": "markdown",
   "id": "ff768f9d",
   "metadata": {},
   "source": [
    "# **BIBLIOTECA PANDAS** $\\ast_\\ast$"
   ]
  },
  {
   "cell_type": "markdown",
   "id": "d9e15d17",
   "metadata": {},
   "source": [
    "### **SÉRIES**"
   ]
  },
  {
   "cell_type": "code",
   "execution_count": 1,
   "id": "13d2daba",
   "metadata": {},
   "outputs": [
    {
     "name": "stdout",
     "output_type": "stream",
     "text": [
      "0    1\n",
      "1    3\n",
      "2    5\n",
      "3    7\n",
      "4    9\n",
      "Name: Coluna impar, dtype: int32\n",
      "0    0\n",
      "1    2\n",
      "2    4\n",
      "3    6\n",
      "4    8\n",
      "Name: Coluna par, dtype: int32\n"
     ]
    }
   ],
   "source": [
    "import pandas as pd\n",
    "import numpy as np\n",
    "\n",
    "\n",
    "# -----------------------------------------------------------------------------\n",
    "# %%Primeiros passos\n",
    "# -----------------------------------------------------------------------------\n",
    "\n",
    "s1 = pd.Series(np.arange(1,10,2), name = \"Coluna impar\")\n",
    "s2 = pd.Series(np.arange(0,10,2), name = \"Coluna par\")\n",
    "\n",
    "print(s1)\n",
    "print(s2)"
   ]
  },
  {
   "cell_type": "markdown",
   "id": "10386cff",
   "metadata": {},
   "source": [
    "### **DATAFRAME**\n",
    "- Data table with random elements"
   ]
  },
  {
   "cell_type": "code",
   "execution_count": 2,
   "id": "2c4576bc",
   "metadata": {},
   "outputs": [
    {
     "name": "stdout",
     "output_type": "stream",
     "text": [
      "           Bacia  resevatórios  vazão  ENA\n",
      "estágio 1      9             6      2    9\n",
      "estágio 2      6             2      5    5\n",
      "estágio 3      2             0      3    6\n"
     ]
    }
   ],
   "source": [
    "#Data Table with random elements:\n",
    "rng = np.random.RandomState()\n",
    "#rng.randint(valores(X = linhas, y = colunas))\n",
    "data = pd.DataFrame(rng.randint(0, 10, size=(3,4)),\n",
    "                  columns = ['Bacia', 'resevatórios', 'vazão', 'ENA'],\n",
    "                  index = [\"estágio 1\", \"estágio 2\", \"estágio 3\"])\n",
    "\n",
    "print(data)"
   ]
  },
  {
   "cell_type": "markdown",
   "id": "78a13bc2",
   "metadata": {},
   "source": [
    "### **VISUALIZAÇÃO DE DADOS**\n",
    "\n",
    "- Base de dados da ONS sobre o intercâmbio entre Subsistemas 2022;\n",
    "- base horária, em MWmed;\n",
    "- As grandezas representam a soma das medidas de fluxo de potência ativa nas linhas de transmissão de fronteira entre os subsistemas;"
   ]
  },
  {
   "cell_type": "code",
   "execution_count": 3,
   "id": "35db4d30",
   "metadata": {},
   "outputs": [],
   "source": [
    "\n",
    "#------------------------------------------------\n",
    "# DADOS DE INTERCÂMBIOS ENTRE SUBSISTEMAS\n",
    "#------------------------------------------------\n",
    "\n",
    "#Descrição do Dado:\n",
    "#Descricao = pd.DataFrame ({\n",
    "#   columns = ['Descrição', 'Código', 'Tipo de Dado', 'Formato', 'Permite valor nulo', 'Permite valor zerado', 'Permite valor negativo']\n",
    "#}\n",
    "#)"
   ]
  },
  {
   "cell_type": "code",
   "execution_count": 4,
   "id": "f323a12e",
   "metadata": {},
   "outputs": [],
   "source": [
    "df_intercambio = pd.read_csv(\"INTERCAMBIO_NACIONAL_2022.csv\", sep=\";\")"
   ]
  },
  {
   "cell_type": "code",
   "execution_count": 5,
   "id": "f0dfd264",
   "metadata": {},
   "outputs": [
    {
     "data": {
      "text/html": [
       "<div>\n",
       "<style scoped>\n",
       "    .dataframe tbody tr th:only-of-type {\n",
       "        vertical-align: middle;\n",
       "    }\n",
       "\n",
       "    .dataframe tbody tr th {\n",
       "        vertical-align: top;\n",
       "    }\n",
       "\n",
       "    .dataframe thead th {\n",
       "        text-align: right;\n",
       "    }\n",
       "</style>\n",
       "<table border=\"1\" class=\"dataframe\">\n",
       "  <thead>\n",
       "    <tr style=\"text-align: right;\">\n",
       "      <th></th>\n",
       "      <th>din_instante</th>\n",
       "      <th>id_subsistema_origem</th>\n",
       "      <th>nom_subsistema_origem</th>\n",
       "      <th>id_subsistema_destino</th>\n",
       "      <th>nom_subsistema_destino</th>\n",
       "      <th>val_intercambiomwmed</th>\n",
       "    </tr>\n",
       "  </thead>\n",
       "  <tbody>\n",
       "    <tr>\n",
       "      <th>0</th>\n",
       "      <td>2022-01-01 00:00:00</td>\n",
       "      <td>N</td>\n",
       "      <td>NORTE</td>\n",
       "      <td>NE</td>\n",
       "      <td>NORDESTE</td>\n",
       "      <td>1559.685</td>\n",
       "    </tr>\n",
       "    <tr>\n",
       "      <th>1</th>\n",
       "      <td>2022-01-01 00:00:00</td>\n",
       "      <td>N</td>\n",
       "      <td>NORTE</td>\n",
       "      <td>SE</td>\n",
       "      <td>SUDESTE</td>\n",
       "      <td>6183.747</td>\n",
       "    </tr>\n",
       "    <tr>\n",
       "      <th>2</th>\n",
       "      <td>2022-01-01 00:00:00</td>\n",
       "      <td>NE</td>\n",
       "      <td>NORDESTE</td>\n",
       "      <td>SE</td>\n",
       "      <td>SUDESTE</td>\n",
       "      <td>61.329</td>\n",
       "    </tr>\n",
       "    <tr>\n",
       "      <th>3</th>\n",
       "      <td>2022-01-01 00:00:00</td>\n",
       "      <td>SE</td>\n",
       "      <td>SUDESTE</td>\n",
       "      <td>S</td>\n",
       "      <td>SUL</td>\n",
       "      <td>6600.121</td>\n",
       "    </tr>\n",
       "    <tr>\n",
       "      <th>4</th>\n",
       "      <td>2022-01-01 01:00:00</td>\n",
       "      <td>N</td>\n",
       "      <td>NORTE</td>\n",
       "      <td>NE</td>\n",
       "      <td>NORDESTE</td>\n",
       "      <td>1671.589</td>\n",
       "    </tr>\n",
       "  </tbody>\n",
       "</table>\n",
       "</div>"
      ],
      "text/plain": [
       "          din_instante id_subsistema_origem nom_subsistema_origem  \\\n",
       "0  2022-01-01 00:00:00                    N                 NORTE   \n",
       "1  2022-01-01 00:00:00                    N                 NORTE   \n",
       "2  2022-01-01 00:00:00                   NE              NORDESTE   \n",
       "3  2022-01-01 00:00:00                   SE               SUDESTE   \n",
       "4  2022-01-01 01:00:00                    N                 NORTE   \n",
       "\n",
       "  id_subsistema_destino nom_subsistema_destino  val_intercambiomwmed  \n",
       "0                    NE               NORDESTE              1559.685  \n",
       "1                    SE                SUDESTE              6183.747  \n",
       "2                    SE                SUDESTE                61.329  \n",
       "3                     S                    SUL              6600.121  \n",
       "4                    NE               NORDESTE              1671.589  "
      ]
     },
     "execution_count": 5,
     "metadata": {},
     "output_type": "execute_result"
    }
   ],
   "source": [
    "\"\"\"\n",
    "head, tail, index , columns, describe and transposta\n",
    "\"\"\"\n",
    "\n",
    "df_intercambio.head()"
   ]
  },
  {
   "cell_type": "code",
   "execution_count": 6,
   "id": "f377e6e0",
   "metadata": {},
   "outputs": [
    {
     "data": {
      "text/html": [
       "<div>\n",
       "<style scoped>\n",
       "    .dataframe tbody tr th:only-of-type {\n",
       "        vertical-align: middle;\n",
       "    }\n",
       "\n",
       "    .dataframe tbody tr th {\n",
       "        vertical-align: top;\n",
       "    }\n",
       "\n",
       "    .dataframe thead th {\n",
       "        text-align: right;\n",
       "    }\n",
       "</style>\n",
       "<table border=\"1\" class=\"dataframe\">\n",
       "  <thead>\n",
       "    <tr style=\"text-align: right;\">\n",
       "      <th></th>\n",
       "      <th>val_intercambiomwmed</th>\n",
       "    </tr>\n",
       "  </thead>\n",
       "  <tbody>\n",
       "    <tr>\n",
       "      <th>count</th>\n",
       "      <td>18432.000000</td>\n",
       "    </tr>\n",
       "    <tr>\n",
       "      <th>mean</th>\n",
       "      <td>3694.704334</td>\n",
       "    </tr>\n",
       "    <tr>\n",
       "      <th>std</th>\n",
       "      <td>3805.013593</td>\n",
       "    </tr>\n",
       "    <tr>\n",
       "      <th>min</th>\n",
       "      <td>-6509.084000</td>\n",
       "    </tr>\n",
       "    <tr>\n",
       "      <th>25%</th>\n",
       "      <td>1013.133500</td>\n",
       "    </tr>\n",
       "    <tr>\n",
       "      <th>50%</th>\n",
       "      <td>2842.503500</td>\n",
       "    </tr>\n",
       "    <tr>\n",
       "      <th>75%</th>\n",
       "      <td>7062.916000</td>\n",
       "    </tr>\n",
       "    <tr>\n",
       "      <th>max</th>\n",
       "      <td>10807.812000</td>\n",
       "    </tr>\n",
       "  </tbody>\n",
       "</table>\n",
       "</div>"
      ],
      "text/plain": [
       "       val_intercambiomwmed\n",
       "count          18432.000000\n",
       "mean            3694.704334\n",
       "std             3805.013593\n",
       "min            -6509.084000\n",
       "25%             1013.133500\n",
       "50%             2842.503500\n",
       "75%             7062.916000\n",
       "max            10807.812000"
      ]
     },
     "execution_count": 6,
     "metadata": {},
     "output_type": "execute_result"
    }
   ],
   "source": [
    "\"\"\" DESCRIBE\"\"\"\n",
    "#Fornece as informações descritivas dos dados\n",
    "#Associado à estatistica: média, desvio padrão, percentil, quartil, etc\n",
    "df_intercambio.describe()"
   ]
  },
  {
   "cell_type": "code",
   "execution_count": 7,
   "id": "957ef700",
   "metadata": {},
   "outputs": [
    {
     "data": {
      "text/html": [
       "<div>\n",
       "<style scoped>\n",
       "    .dataframe tbody tr th:only-of-type {\n",
       "        vertical-align: middle;\n",
       "    }\n",
       "\n",
       "    .dataframe tbody tr th {\n",
       "        vertical-align: top;\n",
       "    }\n",
       "\n",
       "    .dataframe thead th {\n",
       "        text-align: right;\n",
       "    }\n",
       "</style>\n",
       "<table border=\"1\" class=\"dataframe\">\n",
       "  <thead>\n",
       "    <tr style=\"text-align: right;\">\n",
       "      <th></th>\n",
       "      <th>nom_subsistema_origem</th>\n",
       "      <th>id_subsistema_destino</th>\n",
       "    </tr>\n",
       "  </thead>\n",
       "  <tbody>\n",
       "    <tr>\n",
       "      <th>0</th>\n",
       "      <td>NORTE</td>\n",
       "      <td>NE</td>\n",
       "    </tr>\n",
       "    <tr>\n",
       "      <th>1</th>\n",
       "      <td>NORTE</td>\n",
       "      <td>SE</td>\n",
       "    </tr>\n",
       "    <tr>\n",
       "      <th>2</th>\n",
       "      <td>NORDESTE</td>\n",
       "      <td>SE</td>\n",
       "    </tr>\n",
       "    <tr>\n",
       "      <th>3</th>\n",
       "      <td>SUDESTE</td>\n",
       "      <td>S</td>\n",
       "    </tr>\n",
       "    <tr>\n",
       "      <th>4</th>\n",
       "      <td>NORTE</td>\n",
       "      <td>NE</td>\n",
       "    </tr>\n",
       "    <tr>\n",
       "      <th>...</th>\n",
       "      <td>...</td>\n",
       "      <td>...</td>\n",
       "    </tr>\n",
       "    <tr>\n",
       "      <th>18427</th>\n",
       "      <td>SUDESTE</td>\n",
       "      <td>S</td>\n",
       "    </tr>\n",
       "    <tr>\n",
       "      <th>18428</th>\n",
       "      <td>NORTE</td>\n",
       "      <td>NE</td>\n",
       "    </tr>\n",
       "    <tr>\n",
       "      <th>18429</th>\n",
       "      <td>NORTE</td>\n",
       "      <td>SE</td>\n",
       "    </tr>\n",
       "    <tr>\n",
       "      <th>18430</th>\n",
       "      <td>NORDESTE</td>\n",
       "      <td>SE</td>\n",
       "    </tr>\n",
       "    <tr>\n",
       "      <th>18431</th>\n",
       "      <td>SUDESTE</td>\n",
       "      <td>S</td>\n",
       "    </tr>\n",
       "  </tbody>\n",
       "</table>\n",
       "<p>18432 rows × 2 columns</p>\n",
       "</div>"
      ],
      "text/plain": [
       "      nom_subsistema_origem id_subsistema_destino\n",
       "0                     NORTE                    NE\n",
       "1                     NORTE                    SE\n",
       "2                  NORDESTE                    SE\n",
       "3                   SUDESTE                     S\n",
       "4                     NORTE                    NE\n",
       "...                     ...                   ...\n",
       "18427               SUDESTE                     S\n",
       "18428                 NORTE                    NE\n",
       "18429                 NORTE                    SE\n",
       "18430              NORDESTE                    SE\n",
       "18431               SUDESTE                     S\n",
       "\n",
       "[18432 rows x 2 columns]"
      ]
     },
     "execution_count": 7,
     "metadata": {},
     "output_type": "execute_result"
    }
   ],
   "source": [
    "\"\"\"Visualizar apenas uma coluna\"\"\"\n",
    "df_intercambio[[\"nom_subsistema_origem\", \"id_subsistema_destino\"]]"
   ]
  },
  {
   "cell_type": "code",
   "execution_count": 8,
   "id": "664f9d48",
   "metadata": {},
   "outputs": [
    {
     "data": {
      "text/plain": [
       "18432"
      ]
     },
     "execution_count": 8,
     "metadata": {},
     "output_type": "execute_result"
    }
   ],
   "source": [
    "df_intercambio[[\"nom_subsistema_origem\", \"id_subsistema_destino\"]].shape[0]"
   ]
  },
  {
   "cell_type": "code",
   "execution_count": 9,
   "id": "73ecd297",
   "metadata": {},
   "outputs": [],
   "source": [
    "#df_intercambio[[\"nom_subsistema_origem\"]\n",
    "#norte = [\"N\" for a in df_intercambio[[\"nom_subsistema_origem\"] if True]\n",
    "#print(norte)                                       "
   ]
  },
  {
   "cell_type": "code",
   "execution_count": 10,
   "id": "797078c4",
   "metadata": {},
   "outputs": [
    {
     "data": {
      "text/plain": [
       "din_instante              2022-01-01 00:00:00\n",
       "id_subsistema_origem                        N\n",
       "nom_subsistema_origem                   NORTE\n",
       "id_subsistema_destino                      NE\n",
       "nom_subsistema_destino               NORDESTE\n",
       "val_intercambiomwmed                 1559.685\n",
       "Name: 0, dtype: object"
      ]
     },
     "execution_count": 10,
     "metadata": {},
     "output_type": "execute_result"
    }
   ],
   "source": [
    "\"\"\"ILOC\"\"\"\n",
    "#É um maneira de selecionar dados dentro do DataFrame\n",
    "#Dados de uma linha específica\n",
    "df_intercambio.iloc[0]"
   ]
  },
  {
   "cell_type": "code",
   "execution_count": 11,
   "id": "da1a306b",
   "metadata": {},
   "outputs": [
    {
     "data": {
      "text/html": [
       "<div>\n",
       "<style scoped>\n",
       "    .dataframe tbody tr th:only-of-type {\n",
       "        vertical-align: middle;\n",
       "    }\n",
       "\n",
       "    .dataframe tbody tr th {\n",
       "        vertical-align: top;\n",
       "    }\n",
       "\n",
       "    .dataframe thead th {\n",
       "        text-align: right;\n",
       "    }\n",
       "</style>\n",
       "<table border=\"1\" class=\"dataframe\">\n",
       "  <thead>\n",
       "    <tr style=\"text-align: right;\">\n",
       "      <th></th>\n",
       "      <th>nom_subsistema_origem</th>\n",
       "      <th>id_subsistema_destino</th>\n",
       "    </tr>\n",
       "  </thead>\n",
       "  <tbody>\n",
       "    <tr>\n",
       "      <th>5</th>\n",
       "      <td>NORTE</td>\n",
       "      <td>SE</td>\n",
       "    </tr>\n",
       "    <tr>\n",
       "      <th>6</th>\n",
       "      <td>NORDESTE</td>\n",
       "      <td>SE</td>\n",
       "    </tr>\n",
       "    <tr>\n",
       "      <th>7</th>\n",
       "      <td>SUDESTE</td>\n",
       "      <td>S</td>\n",
       "    </tr>\n",
       "    <tr>\n",
       "      <th>8</th>\n",
       "      <td>NORTE</td>\n",
       "      <td>NE</td>\n",
       "    </tr>\n",
       "    <tr>\n",
       "      <th>9</th>\n",
       "      <td>NORTE</td>\n",
       "      <td>SE</td>\n",
       "    </tr>\n",
       "  </tbody>\n",
       "</table>\n",
       "</div>"
      ],
      "text/plain": [
       "  nom_subsistema_origem id_subsistema_destino\n",
       "5                 NORTE                    SE\n",
       "6              NORDESTE                    SE\n",
       "7               SUDESTE                     S\n",
       "8                 NORTE                    NE\n",
       "9                 NORTE                    SE"
      ]
     },
     "execution_count": 11,
     "metadata": {},
     "output_type": "execute_result"
    }
   ],
   "source": [
    "#5:10 = linhas que eu quero analisar\n",
    "# depois da vírgula = colunas\n",
    "#Também possível colocar por \"nome\"\n",
    "df_intercambio.iloc[5:10, 2:4]"
   ]
  },
  {
   "cell_type": "code",
   "execution_count": 12,
   "id": "3955a54a",
   "metadata": {},
   "outputs": [
    {
     "data": {
      "text/plain": [
       "'INDEXAÇÃO BOOLEANA\\nErro porque não há subsistema de origem == S\\n'"
      ]
     },
     "execution_count": 12,
     "metadata": {},
     "output_type": "execute_result"
    }
   ],
   "source": [
    "\"\"\"INDEXAÇÃO BOOLEANA\n",
    "Erro porque não há subsistema de origem == S\n",
    "\"\"\"\n",
    "\n",
    "#Expressão booleana para filtrar dados\n",
    "#if df_intercambio[df_intercambio[\"id_subsistema_origem\"] == \"S\"]:\n",
    "#    print(df_intercambio)\n",
    "#a = df_intercambio.iloc[:, 1]\n",
    "#for subsistema in a:\n",
    "#    if a == \"S\":\n",
    "#        print(a)"
   ]
  },
  {
   "cell_type": "code",
   "execution_count": 13,
   "id": "49411603",
   "metadata": {},
   "outputs": [
    {
     "data": {
      "text/plain": [
       "NORTE       0.50\n",
       "NORDESTE    0.25\n",
       "SUDESTE     0.25\n",
       "Name: nom_subsistema_origem, dtype: float64"
      ]
     },
     "execution_count": 13,
     "metadata": {},
     "output_type": "execute_result"
    }
   ],
   "source": [
    "\"\"\"Fornecer porcentagem\"\"\"\n",
    "df_intercambio['nom_subsistema_origem'].value_counts(normalize=True)"
   ]
  },
  {
   "cell_type": "code",
   "execution_count": 14,
   "id": "6ab764d7",
   "metadata": {},
   "outputs": [
    {
     "data": {
      "text/plain": [
       "SUDESTE     0.50\n",
       "NORDESTE    0.25\n",
       "SUL         0.25\n",
       "Name: nom_subsistema_destino, dtype: float64"
      ]
     },
     "execution_count": 14,
     "metadata": {},
     "output_type": "execute_result"
    }
   ],
   "source": [
    "df_intercambio['nom_subsistema_destino'].value_counts(normalize=True)"
   ]
  },
  {
   "cell_type": "code",
   "execution_count": 15,
   "id": "517db2b1",
   "metadata": {},
   "outputs": [
    {
     "data": {
      "text/html": [
       "<div>\n",
       "<style scoped>\n",
       "    .dataframe tbody tr th:only-of-type {\n",
       "        vertical-align: middle;\n",
       "    }\n",
       "\n",
       "    .dataframe tbody tr th {\n",
       "        vertical-align: top;\n",
       "    }\n",
       "\n",
       "    .dataframe thead th {\n",
       "        text-align: right;\n",
       "    }\n",
       "</style>\n",
       "<table border=\"1\" class=\"dataframe\">\n",
       "  <thead>\n",
       "    <tr style=\"text-align: right;\">\n",
       "      <th></th>\n",
       "      <th>din_instante</th>\n",
       "      <th>id_subsistema_origem</th>\n",
       "      <th>nom_subsistema_origem</th>\n",
       "      <th>id_subsistema_destino</th>\n",
       "      <th>nom_subsistema_destino</th>\n",
       "      <th>val_intercambiomwmed</th>\n",
       "    </tr>\n",
       "  </thead>\n",
       "  <tbody>\n",
       "    <tr>\n",
       "      <th>0</th>\n",
       "      <td>2022-01-01 00:00:00</td>\n",
       "      <td>N</td>\n",
       "      <td>NORTE</td>\n",
       "      <td>NE</td>\n",
       "      <td>NORDESTE</td>\n",
       "      <td>1.559685e+03</td>\n",
       "    </tr>\n",
       "    <tr>\n",
       "      <th>1</th>\n",
       "      <td>2022-01-01 00:00:002022-01-01 00:00:00</td>\n",
       "      <td>NN</td>\n",
       "      <td>NORTENORTE</td>\n",
       "      <td>NESE</td>\n",
       "      <td>NORDESTESUDESTE</td>\n",
       "      <td>7.743432e+03</td>\n",
       "    </tr>\n",
       "    <tr>\n",
       "      <th>2</th>\n",
       "      <td>2022-01-01 00:00:002022-01-01 00:00:002022-01-...</td>\n",
       "      <td>NNNE</td>\n",
       "      <td>NORTENORTENORDESTE</td>\n",
       "      <td>NESESE</td>\n",
       "      <td>NORDESTESUDESTESUDESTE</td>\n",
       "      <td>7.804761e+03</td>\n",
       "    </tr>\n",
       "    <tr>\n",
       "      <th>3</th>\n",
       "      <td>2022-01-01 00:00:002022-01-01 00:00:002022-01-...</td>\n",
       "      <td>NNNESE</td>\n",
       "      <td>NORTENORTENORDESTESUDESTE</td>\n",
       "      <td>NESESES</td>\n",
       "      <td>NORDESTESUDESTESUDESTESUL</td>\n",
       "      <td>1.440488e+04</td>\n",
       "    </tr>\n",
       "    <tr>\n",
       "      <th>4</th>\n",
       "      <td>2022-01-01 00:00:002022-01-01 00:00:002022-01-...</td>\n",
       "      <td>NNNESEN</td>\n",
       "      <td>NORTENORTENORDESTESUDESTENORTE</td>\n",
       "      <td>NESESESNE</td>\n",
       "      <td>NORDESTESUDESTESUDESTESULNORDESTE</td>\n",
       "      <td>1.607647e+04</td>\n",
       "    </tr>\n",
       "    <tr>\n",
       "      <th>...</th>\n",
       "      <td>...</td>\n",
       "      <td>...</td>\n",
       "      <td>...</td>\n",
       "      <td>...</td>\n",
       "      <td>...</td>\n",
       "      <td>...</td>\n",
       "    </tr>\n",
       "    <tr>\n",
       "      <th>18427</th>\n",
       "      <td>2022-01-01 00:00:002022-01-01 00:00:002022-01-...</td>\n",
       "      <td>NNNESENNNESENNNESENNNESENNNESENNNESENNNESENNNE...</td>\n",
       "      <td>NORTENORTENORDESTESUDESTENORTENORTENORDESTESUD...</td>\n",
       "      <td>NESESESNESESESNESESESNESESESNESESESNESESESNESE...</td>\n",
       "      <td>NORDESTESUDESTESUDESTESULNORDESTESUDESTESUDEST...</td>\n",
       "      <td>6.810150e+07</td>\n",
       "    </tr>\n",
       "    <tr>\n",
       "      <th>18428</th>\n",
       "      <td>2022-01-01 00:00:002022-01-01 00:00:002022-01-...</td>\n",
       "      <td>NNNESENNNESENNNESENNNESENNNESENNNESENNNESENNNE...</td>\n",
       "      <td>NORTENORTENORDESTESUDESTENORTENORTENORDESTESUD...</td>\n",
       "      <td>NESESESNESESESNESESESNESESESNESESESNESESESNESE...</td>\n",
       "      <td>NORDESTESUDESTESUDESTESULNORDESTESUDESTESUDEST...</td>\n",
       "      <td>6.809883e+07</td>\n",
       "    </tr>\n",
       "    <tr>\n",
       "      <th>18429</th>\n",
       "      <td>2022-01-01 00:00:002022-01-01 00:00:002022-01-...</td>\n",
       "      <td>NNNESENNNESENNNESENNNESENNNESENNNESENNNESENNNE...</td>\n",
       "      <td>NORTENORTENORDESTESUDESTENORTENORTENORDESTESUD...</td>\n",
       "      <td>NESESESNESESESNESESESNESESESNESESESNESESESNESE...</td>\n",
       "      <td>NORDESTESUDESTESUDESTESULNORDESTESUDESTESUDEST...</td>\n",
       "      <td>6.810110e+07</td>\n",
       "    </tr>\n",
       "    <tr>\n",
       "      <th>18430</th>\n",
       "      <td>2022-01-01 00:00:002022-01-01 00:00:002022-01-...</td>\n",
       "      <td>NNNESENNNESENNNESENNNESENNNESENNNESENNNESENNNE...</td>\n",
       "      <td>NORTENORTENORDESTESUDESTENORTENORTENORDESTESUD...</td>\n",
       "      <td>NESESESNESESESNESESESNESESESNESESESNESESESNESE...</td>\n",
       "      <td>NORDESTESUDESTESUDESTESULNORDESTESUDESTESUDEST...</td>\n",
       "      <td>6.810434e+07</td>\n",
       "    </tr>\n",
       "    <tr>\n",
       "      <th>18431</th>\n",
       "      <td>2022-01-01 00:00:002022-01-01 00:00:002022-01-...</td>\n",
       "      <td>NNNESENNNESENNNESENNNESENNNESENNNESENNNESENNNE...</td>\n",
       "      <td>NORTENORTENORDESTESUDESTENORTENORTENORDESTESUD...</td>\n",
       "      <td>NESESESNESESESNESESESNESESESNESESESNESESESNESE...</td>\n",
       "      <td>NORDESTESUDESTESUDESTESULNORDESTESUDESTESUDEST...</td>\n",
       "      <td>6.810079e+07</td>\n",
       "    </tr>\n",
       "  </tbody>\n",
       "</table>\n",
       "<p>18432 rows × 6 columns</p>\n",
       "</div>"
      ],
      "text/plain": [
       "                                            din_instante  \\\n",
       "0                                    2022-01-01 00:00:00   \n",
       "1                 2022-01-01 00:00:002022-01-01 00:00:00   \n",
       "2      2022-01-01 00:00:002022-01-01 00:00:002022-01-...   \n",
       "3      2022-01-01 00:00:002022-01-01 00:00:002022-01-...   \n",
       "4      2022-01-01 00:00:002022-01-01 00:00:002022-01-...   \n",
       "...                                                  ...   \n",
       "18427  2022-01-01 00:00:002022-01-01 00:00:002022-01-...   \n",
       "18428  2022-01-01 00:00:002022-01-01 00:00:002022-01-...   \n",
       "18429  2022-01-01 00:00:002022-01-01 00:00:002022-01-...   \n",
       "18430  2022-01-01 00:00:002022-01-01 00:00:002022-01-...   \n",
       "18431  2022-01-01 00:00:002022-01-01 00:00:002022-01-...   \n",
       "\n",
       "                                    id_subsistema_origem  \\\n",
       "0                                                      N   \n",
       "1                                                     NN   \n",
       "2                                                   NNNE   \n",
       "3                                                 NNNESE   \n",
       "4                                                NNNESEN   \n",
       "...                                                  ...   \n",
       "18427  NNNESENNNESENNNESENNNESENNNESENNNESENNNESENNNE...   \n",
       "18428  NNNESENNNESENNNESENNNESENNNESENNNESENNNESENNNE...   \n",
       "18429  NNNESENNNESENNNESENNNESENNNESENNNESENNNESENNNE...   \n",
       "18430  NNNESENNNESENNNESENNNESENNNESENNNESENNNESENNNE...   \n",
       "18431  NNNESENNNESENNNESENNNESENNNESENNNESENNNESENNNE...   \n",
       "\n",
       "                                   nom_subsistema_origem  \\\n",
       "0                                                  NORTE   \n",
       "1                                             NORTENORTE   \n",
       "2                                     NORTENORTENORDESTE   \n",
       "3                              NORTENORTENORDESTESUDESTE   \n",
       "4                         NORTENORTENORDESTESUDESTENORTE   \n",
       "...                                                  ...   \n",
       "18427  NORTENORTENORDESTESUDESTENORTENORTENORDESTESUD...   \n",
       "18428  NORTENORTENORDESTESUDESTENORTENORTENORDESTESUD...   \n",
       "18429  NORTENORTENORDESTESUDESTENORTENORTENORDESTESUD...   \n",
       "18430  NORTENORTENORDESTESUDESTENORTENORTENORDESTESUD...   \n",
       "18431  NORTENORTENORDESTESUDESTENORTENORTENORDESTESUD...   \n",
       "\n",
       "                                   id_subsistema_destino  \\\n",
       "0                                                     NE   \n",
       "1                                                   NESE   \n",
       "2                                                 NESESE   \n",
       "3                                                NESESES   \n",
       "4                                              NESESESNE   \n",
       "...                                                  ...   \n",
       "18427  NESESESNESESESNESESESNESESESNESESESNESESESNESE...   \n",
       "18428  NESESESNESESESNESESESNESESESNESESESNESESESNESE...   \n",
       "18429  NESESESNESESESNESESESNESESESNESESESNESESESNESE...   \n",
       "18430  NESESESNESESESNESESESNESESESNESESESNESESESNESE...   \n",
       "18431  NESESESNESESESNESESESNESESESNESESESNESESESNESE...   \n",
       "\n",
       "                                  nom_subsistema_destino  val_intercambiomwmed  \n",
       "0                                               NORDESTE          1.559685e+03  \n",
       "1                                        NORDESTESUDESTE          7.743432e+03  \n",
       "2                                 NORDESTESUDESTESUDESTE          7.804761e+03  \n",
       "3                              NORDESTESUDESTESUDESTESUL          1.440488e+04  \n",
       "4                      NORDESTESUDESTESUDESTESULNORDESTE          1.607647e+04  \n",
       "...                                                  ...                   ...  \n",
       "18427  NORDESTESUDESTESUDESTESULNORDESTESUDESTESUDEST...          6.810150e+07  \n",
       "18428  NORDESTESUDESTESUDESTESULNORDESTESUDESTESUDEST...          6.809883e+07  \n",
       "18429  NORDESTESUDESTESUDESTESULNORDESTESUDESTESUDEST...          6.810110e+07  \n",
       "18430  NORDESTESUDESTESUDESTESULNORDESTESUDESTESUDEST...          6.810434e+07  \n",
       "18431  NORDESTESUDESTESUDESTESULNORDESTESUDESTESUDEST...          6.810079e+07  \n",
       "\n",
       "[18432 rows x 6 columns]"
      ]
     },
     "execution_count": 15,
     "metadata": {},
     "output_type": "execute_result"
    }
   ],
   "source": [
    "df_intercambio.apply(np.cumsum)"
   ]
  },
  {
   "cell_type": "code",
   "execution_count": 16,
   "id": "f324e7d6",
   "metadata": {},
   "outputs": [],
   "source": [
    "#df_intercambio[\"val_intercambiomwmed\"].apply(lambda x: x.max())"
   ]
  },
  {
   "cell_type": "code",
   "execution_count": 17,
   "id": "7e61a81e",
   "metadata": {},
   "outputs": [
    {
     "data": {
      "text/plain": [
       "<AxesSubplot:ylabel='nom_subsistema_destino'>"
      ]
     },
     "execution_count": 17,
     "metadata": {},
     "output_type": "execute_result"
    },
    {
     "data": {
      "image/png": "[encoded data removed]",
      "text/plain": [
       "<Figure size 432x288 with 1 Axes>"
      ]
     },
     "metadata": {},
     "output_type": "display_data"
    }
   ],
   "source": [
    "df_intercambio['nom_subsistema_destino'].value_counts(normalize=True).plot(kind = 'pie', legend = True)"
   ]
  },
  {
   "cell_type": "code",
   "execution_count": 26,
   "id": "a8e9187f",
   "metadata": {},
   "outputs": [
    {
     "name": "stdout",
     "output_type": "stream",
     "text": [
      "<pandas.core.groupby.generic.DataFrameGroupBy object at 0x000001646B2E6100>\n"
     ]
    }
   ],
   "source": [
    "\"\"\" AGRUPAMENTO = GROUP BY \"\"\"\n",
    "teste_groupby = df_intercambio.groupby([\"id_subsistema_destino\",\"nom_subsistema_destino\"])\n",
    "print(teste_groupby)"
   ]
  },
  {
   "cell_type": "code",
   "execution_count": null,
   "id": "fb5c90b4",
   "metadata": {},
   "outputs": [],
   "source": []
  },
  {
   "cell_type": "code",
   "execution_count": null,
   "id": "acc76948",
   "metadata": {},
   "outputs": [],
   "source": []
  },
  {
   "cell_type": "code",
   "execution_count": null,
   "id": "6f04fb99",
   "metadata": {},
   "outputs": [],
   "source": []
  }
 ],
 "metadata": {
  "kernelspec": {
   "display_name": "Python 3 (ipykernel)",
   "language": "python",
   "name": "python3"
  },
  "language_info": {
   "codemirror_mode": {
    "name": "ipython",
    "version": 3
   },
   "file_extension": ".py",
   "mimetype": "text/x-python",
   "name": "python",
   "nbconvert_exporter": "python",
   "pygments_lexer": "ipython3",
   "version": "3.9.12"
  }
 },
 "nbformat": 4,
 "nbformat_minor": 5
}
