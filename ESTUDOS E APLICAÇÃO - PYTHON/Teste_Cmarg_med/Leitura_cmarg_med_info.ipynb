{
 "cells": [
  {
   "cell_type": "markdown",
   "id": "f1fcf798",
   "metadata": {},
   "source": [
    "# Leitura do arquivo cmarg med\n",
    "# Informações"
   ]
  },
  {
   "cell_type": "code",
   "execution_count": 1,
   "id": "5fc7b7cc",
   "metadata": {},
   "outputs": [],
   "source": [
    "path=(r\"C:\\Users\\E805511\\Documents\\Importacao_modelos_v1\\testes\\teste_nw\\Teste_Cmarg_med\\cmarg001-med.out\")\n",
    "with open (path) as arquivo:\n",
    "    leitura = arquivo.readlines()   "
   ]
  },
  {
   "cell_type": "code",
   "execution_count": 9,
   "id": "44e60438",
   "metadata": {},
   "outputs": [],
   "source": [
    "ano = []\n",
    "dados_arquivo = []\n",
    "for line in leitura:\n",
    "    if \"ANO\" in line:\n",
    "        ano.append(line.split())\n",
    "        \n",
    "    if \"SUBMERCADO\" in line:\n",
    "        dados_arquivo.append(line.split())"
   ]
  },
  {
   "cell_type": "code",
   "execution_count": 10,
   "id": "945519db",
   "metadata": {},
   "outputs": [
    {
     "name": "stdout",
     "output_type": "stream",
     "text": [
      "[['ANO:', '2022'], ['ANO:', '2023'], ['ANO:', '2024'], ['ANO:', '2025'], ['ANO:', '2026']]\n",
      "[['CUSTO', 'MARGINAL', 'DE', 'DEMANDA', '-', 'MEDIA', 'PATAMARES', 'SUBMERCADO:SUDESTE']]\n"
     ]
    }
   ],
   "source": [
    "print(ano)\n",
    "print(dados_arquivo)"
   ]
  },
  {
   "cell_type": "code",
   "execution_count": 5,
   "id": "80e1f29f",
   "metadata": {},
   "outputs": [
    {
     "name": "stdout",
     "output_type": "stream",
     "text": [
      "SUBMERCADO:SUDESTE\n"
     ]
    }
   ],
   "source": [
    "#Identifica o submercado e o titulo\n",
    "sub = dados_arquivo[-1]\n",
    "submercado = sub[-1]\n",
    "#del sub[-1]\n",
    "titulo = sub\n",
    "print(submercado)"
   ]
  },
  {
   "cell_type": "code",
   "execution_count": null,
   "id": "68da4311",
   "metadata": {},
   "outputs": [],
   "source": []
  },
  {
   "cell_type": "code",
   "execution_count": null,
   "id": "b3c489da",
   "metadata": {},
   "outputs": [],
   "source": []
  }
 ],
 "metadata": {
  "kernelspec": {
   "display_name": "Python 3 (ipykernel)",
   "language": "python",
   "name": "python3"
  },
  "language_info": {
   "codemirror_mode": {
    "name": "ipython",
    "version": 3
   },
   "file_extension": ".py",
   "mimetype": "text/x-python",
   "name": "python",
   "nbconvert_exporter": "python",
   "pygments_lexer": "ipython3",
   "version": "3.9.12"
  }
 },
 "nbformat": 4,
 "nbformat_minor": 5
}
